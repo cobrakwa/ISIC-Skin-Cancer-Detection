{
 "cells": [
  {
   "cell_type": "markdown",
   "metadata": {},
   "source": [
    "## Imports"
   ]
  },
  {
   "cell_type": "code",
   "execution_count": 1,
   "metadata": {},
   "outputs": [],
   "source": [
    "import os\n",
    "import torch\n",
    "import torch.nn as nn\n",
    "import torch.optim as optim\n",
    "from torch.utils.data import DataLoader, Dataset, random_split\n",
    "from torchvision import transforms\n",
    "from PIL import Image\n",
    "import pandas as pd\n",
    "import numpy as np\n",
    "import json\n",
    "from tqdm import tqdm\n",
    "import matplotlib.pyplot as plt\n",
    "from sklearn.metrics import classification_report, roc_auc_score, roc_curve\n",
    "from sklearn.model_selection import train_test_split\n",
    "from torchvision.models import resnet50, vit_b_16\n",
    "import timm"
   ]
  },
  {
   "cell_type": "markdown",
   "metadata": {},
   "source": [
    "## Config"
   ]
  },
  {
   "cell_type": "code",
   "execution_count": 2,
   "metadata": {},
   "outputs": [
    {
     "name": "stdout",
     "output_type": "stream",
     "text": [
      "Using device: cuda\n"
     ]
    }
   ],
   "source": [
    "SEED = 42\n",
    "torch.manual_seed(SEED)\n",
    "np.random.seed(SEED)\n",
    "device = torch.device(\"cuda\" if torch.cuda.is_available() else \"cpu\")\n",
    "print(f\"Using device: {device}\")"
   ]
  },
  {
   "cell_type": "code",
   "execution_count": 3,
   "metadata": {},
   "outputs": [],
   "source": [
    "# Paths\n",
    "metadata_path = '../data/balanced_data/normalized_metadata.csv'\n",
    "normalization_params_path = '../data/balanced_data/normalization_params.json'\n",
    "image_dir = '../data/balanced_data'\n",
    "pretrained_conformer_path = './pretrained_models/conformer.pth'\n",
    "pretrained_dnn_path = './pretrained_models/dnn.pth'\n",
    "pretrained_vit_path = './pretrained_models/vit_classifier.pth'\n",
    "fusion_model_save_path = './fusion_model.pth'"
   ]
  },
  {
   "cell_type": "code",
   "execution_count": null,
   "metadata": {},
   "outputs": [],
   "source": [
    "\n",
    "with open(normalization_params_path, 'r') as f:\n",
    "    normalization_params = json.load(f)"
   ]
  },
  {
   "cell_type": "markdown",
   "metadata": {},
   "source": [
    "## Dataset"
   ]
  },
  {
   "cell_type": "code",
   "execution_count": null,
   "metadata": {},
   "outputs": [],
   "source": [
    "class FusionDataset(Dataset):\n",
    "    def __init__(self, metadata_path, image_dir, normalization_params, transform_conformer, transform_vit):\n",
    "        self.metadata = pd.read_csv(metadata_path)\n",
    "        self.image_dir = image_dir\n",
    "        self.transform_conformer = transform_conformer\n",
    "        self.transform_vit = transform_vit\n",
    "        self.labels = self.metadata['target'].values.astype(int)\n",
    "        \n",
    "        \n",
    "        columns_to_drop = [\n",
    "            \"isic_id\", \"target\", \"patient_id\", \"anatom_site_general\", \"image_type\",\n",
    "            \"tbp_tile_type\", \"attribution\", \"copyright_license\", \"lesion_id\", \"iddx_full\",\n",
    "            \"iddx_1\", \"iddx_2\", \"iddx_3\", \"iddx_4\", \"iddx_5\", \"mel_mitotic_index\",\n",
    "            \"mel_thick_mm\", \"tbp_lv_dnn_lesion_confidence\"\n",
    "        ]\n",
    "        metadata_features = self.metadata.drop(columns=columns_to_drop, errors='ignore')\n",
    "        for col, params in normalization_params.items():\n",
    "            if col in metadata_features.columns:\n",
    "                col_min = params['min']\n",
    "                col_max = params['max']\n",
    "                metadata_features[col] = (metadata_features[col] - col_min) / (col_max - col_min)\n",
    "        self.metadata_features = metadata_features.values.astype(np.float32)\n",
    "\n",
    "    def __len__(self):\n",
    "        return len(self.metadata)\n",
    "\n",
    "    def __getitem__(self, idx):\n",
    "        isic_id = self.metadata.iloc[idx]['isic_id']\n",
    "        label = self.labels[idx]\n",
    "        metadata_features = torch.tensor(self.metadata_features[idx], dtype=torch.float32)\n",
    "        folder = '1' if label == 1 else '0'\n",
    "        image_path = os.path.join(self.image_dir, folder, f\"{isic_id}.jpg\")\n",
    "        image = Image.open(image_path).convert(\"RGB\")\n",
    "\n",
    "        \n",
    "        image_conformer = self.transform_conformer(image)\n",
    "        image_vit = self.transform_vit(image)\n",
    "\n",
    "        \n",
    "        label = torch.tensor(label, dtype=torch.long)\n",
    "\n",
    "        return image_conformer, image_vit, metadata_features, label\n"
   ]
  },
  {
   "cell_type": "code",
   "execution_count": null,
   "metadata": {},
   "outputs": [],
   "source": [
    "\n",
    "transform_conformer = transforms.Compose([\n",
    "    transforms.Resize((128, 128)),  \n",
    "    transforms.ToTensor(),\n",
    "    transforms.Normalize(mean=[0.5], std=[0.5])\n",
    "])\n",
    "\n",
    "transform_vit = transforms.Compose([\n",
    "    transforms.Resize((224, 224)),  \n",
    "    transforms.ToTensor(),\n",
    "    transforms.Normalize(mean=[0.5], std=[0.5])\n",
    "])\n"
   ]
  },
  {
   "cell_type": "code",
   "execution_count": null,
   "metadata": {},
   "outputs": [
    {
     "name": "stdout",
     "output_type": "stream",
     "text": [
      "Train size: 607, Validation size: 76, Test size: 76\n"
     ]
    }
   ],
   "source": [
    "\n",
    "\n",
    "\n",
    "dataset = FusionDataset(\n",
    "    metadata_path=metadata_path,\n",
    "    image_dir=image_dir,\n",
    "    normalization_params=normalization_params,\n",
    "    transform_conformer=transform_conformer,\n",
    "    transform_vit=transform_vit\n",
    ")\n",
    "\n",
    "train_size = int(0.8 * len(dataset))\n",
    "val_size = int(0.1 * len(dataset))\n",
    "test_size = len(dataset) - train_size - val_size\n",
    "\n",
    "train_indices, temp_indices = train_test_split(\n",
    "    range(len(dataset)),\n",
    "    test_size=0.2,\n",
    "    stratify=dataset.labels,\n",
    "    random_state=SEED\n",
    ")\n",
    "val_indices, test_indices = train_test_split(\n",
    "    temp_indices,\n",
    "    test_size=0.5,\n",
    "    stratify=dataset.labels[temp_indices],\n",
    "    random_state=SEED\n",
    ")\n",
    "train_dataset = torch.utils.data.Subset(dataset, train_indices)\n",
    "val_dataset = torch.utils.data.Subset(dataset, val_indices)\n",
    "test_dataset = torch.utils.data.Subset(dataset, test_indices)\n",
    "batch_size = 64\n",
    "train_loader = DataLoader(train_dataset, batch_size=batch_size, shuffle=True)\n",
    "val_loader = DataLoader(val_dataset, batch_size=batch_size, shuffle=False)\n",
    "test_loader = DataLoader(test_dataset, batch_size=batch_size, shuffle=False)\n",
    "\n",
    "\n",
    "print(f\"Train size: {len(train_loader.dataset)}, Validation size: {len(val_loader.dataset)}, Test size: {len(test_loader.dataset)}\")\n"
   ]
  },
  {
   "cell_type": "markdown",
   "metadata": {},
   "source": [
    "## Architecture"
   ]
  },
  {
   "cell_type": "code",
   "execution_count": null,
   "metadata": {},
   "outputs": [],
   "source": [
    "class ConformerTinyBinary(nn.Module):\n",
    "    def __init__(self, img_size=128, num_classes=2, embed_dim=256, num_heads=8, num_transformer_layers=3, dropout=0.2):\n",
    "        super(ConformerTinyBinary, self).__init__()\n",
    "        self.conv = nn.Sequential(\n",
    "            nn.Conv2d(3, embed_dim, kernel_size=3, stride=2, padding=1),\n",
    "            nn.BatchNorm2d(embed_dim),\n",
    "            nn.ReLU(),\n",
    "            nn.Dropout2d(dropout),\n",
    "            nn.Conv2d(embed_dim, embed_dim, kernel_size=3, stride=2, padding=1),\n",
    "            nn.BatchNorm2d(embed_dim),\n",
    "            nn.ReLU(),\n",
    "            nn.Dropout2d(dropout),\n",
    "            nn.Conv2d(embed_dim, embed_dim, kernel_size=3, stride=2, padding=1),\n",
    "            nn.BatchNorm2d(embed_dim),\n",
    "            nn.ReLU(),\n",
    "            nn.Dropout2d(dropout)\n",
    "        )\n",
    "        self.transformer = nn.TransformerEncoder(\n",
    "            nn.TransformerEncoderLayer(d_model=embed_dim, nhead=num_heads),\n",
    "            num_layers=num_transformer_layers\n",
    "        )\n",
    "        self.fc = nn.Linear(embed_dim, num_classes)\n",
    "\n",
    "    def forward(self, x):\n",
    "        x = self.conv(x)\n",
    "        b, c, h, w = x.shape\n",
    "        x = x.view(b, c, -1).permute(2, 0, 1)  \n",
    "        x = self.transformer(x)\n",
    "        x = x.mean(dim=0)  \n",
    "        return x"
   ]
  },
  {
   "cell_type": "code",
   "execution_count": 11,
   "metadata": {},
   "outputs": [],
   "source": [
    "class FeedforwardNN(torch.nn.Module):\n",
    "    def __init__(self, input_dim, hidden_dim, output_dim):\n",
    "        super(FeedforwardNN, self).__init__()\n",
    "        self.fc = torch.nn.Sequential(\n",
    "            torch.nn.Linear(input_dim, hidden_dim),\n",
    "            torch.nn.ReLU(),\n",
    "            torch.nn.Dropout(0.2),\n",
    "            torch.nn.Linear(hidden_dim, hidden_dim),\n",
    "            torch.nn.ReLU(),\n",
    "            torch.nn.Linear(hidden_dim, output_dim)\n",
    "        )\n",
    "\n",
    "    def forward(self, x):\n",
    "        return self.fc(x)"
   ]
  },
  {
   "cell_type": "code",
   "execution_count": null,
   "metadata": {},
   "outputs": [],
   "source": [
    "class FusionModel(nn.Module):\n",
    "    def __init__(self, conformer, feedforward, resnet, vit, conformer_embed_dim, feedforward_embed_dim, resnet_embed_dim, vit_embed_dim, fusion_hidden_dim, output_dim=2, dropout_rate=0.2):\n",
    "        super(FusionModel, self).__init__()\n",
    "        self.conformer = conformer\n",
    "        self.feedforward = feedforward\n",
    "        self.resnet = resnet\n",
    "        self.vit = vit\n",
    "\n",
    "        \n",
    "        total_embed_dim = conformer_embed_dim + feedforward_embed_dim + resnet_embed_dim + vit_embed_dim\n",
    "\n",
    "        self.fusion_fc = nn.Sequential(\n",
    "            nn.Linear(total_embed_dim, fusion_hidden_dim),\n",
    "            nn.ReLU(),\n",
    "            nn.Dropout(dropout_rate),\n",
    "            nn.Linear(fusion_hidden_dim, output_dim)\n",
    "        )\n",
    "\n",
    "    def forward(self, image_conformer, image_vit, metadata):\n",
    "        \n",
    "        x_conformer = self.conformer.conv(image_conformer)\n",
    "        b, c, h, w = x_conformer.shape\n",
    "        x_conformer = x_conformer.view(b, c, -1).permute(2, 0, 1)\n",
    "        x_conformer = self.conformer.transformer(x_conformer)\n",
    "        conformer_embed = x_conformer.mean(dim=0)  \n",
    "\n",
    "        \n",
    "        metadata_embed = self.feedforward.fc[:-1](metadata)  \n",
    "\n",
    "        \n",
    "        with torch.no_grad():  \n",
    "            resnet_embed = self.resnet(image_vit).squeeze()  \n",
    "\n",
    "        with torch.no_grad():  \n",
    "            vit_embed = self.vit(image_vit)  \n",
    "\n",
    "        \n",
    "        \n",
    "        \n",
    "        \n",
    "        \n",
    "\n",
    "        \n",
    "        fusion_input = torch.cat((conformer_embed, metadata_embed, resnet_embed, vit_embed), dim=1)\n",
    "\n",
    "        \n",
    "        \n",
    "\n",
    "        output = self.fusion_fc(fusion_input)\n",
    "        return output\n"
   ]
  },
  {
   "cell_type": "markdown",
   "metadata": {},
   "source": [
    "## Init"
   ]
  },
  {
   "cell_type": "code",
   "execution_count": null,
   "metadata": {},
   "outputs": [
    {
     "name": "stdout",
     "output_type": "stream",
     "text": [
      "Loading ResNet-50 from ./pretrained_models/resnet50.pth\n"
     ]
    },
    {
     "name": "stderr",
     "output_type": "stream",
     "text": [
      "C:\\Users\\jonec\\AppData\\Local\\Temp\\ipykernel_40252\\4186524744.py:6: FutureWarning: You are using `torch.load` with `weights_only=False` (the current default value), which uses the default pickle module implicitly. It is possible to construct malicious pickle data which will execute arbitrary code during unpickling (See https://github.com/pytorch/pytorch/blob/main/SECURITY.md#untrusted-models for more details). In a future release, the default value for `weights_only` will be flipped to `True`. This limits the functions that could be executed during unpickling. Arbitrary objects will no longer be allowed to be loaded via this mode unless they are explicitly allowlisted by the user via `torch.serialization.add_safe_globals`. We recommend you start setting `weights_only=True` for any use case where you don't have full control of the loaded file. Please open an issue on GitHub for any issues related to this experimental feature.\n",
      "  resnet.load_state_dict(torch.load(pretrained_resnet_path, map_location=device))\n"
     ]
    }
   ],
   "source": [
    "pretrained_resnet_path = './pretrained_models/resnet50.pth'\n",
    "\n",
    "if os.path.exists(pretrained_resnet_path):\n",
    "    print(f\"Loading ResNet-50 from {pretrained_resnet_path}\")\n",
    "    resnet = resnet50()\n",
    "    resnet.load_state_dict(torch.load(pretrained_resnet_path, map_location=device))\n",
    "else:\n",
    "    print(\"Downloading ResNet-50 pretrained weights...\")\n",
    "    resnet = resnet50(pretrained=True)\n",
    "    os.makedirs(os.path.dirname(pretrained_resnet_path), exist_ok=True)\n",
    "    torch.save(resnet.state_dict(), pretrained_resnet_path)\n",
    "    print(f\"ResNet-50 weights saved to {pretrained_resnet_path}\")\n",
    "\n",
    "resnet.fc = nn.Identity()\n",
    "\n"
   ]
  },
  {
   "cell_type": "code",
   "execution_count": null,
   "metadata": {},
   "outputs": [
    {
     "name": "stderr",
     "output_type": "stream",
     "text": [
      "C:\\Users\\jonec\\AppData\\Local\\Temp\\ipykernel_40252\\1667707694.py:22: FutureWarning: You are using `torch.load` with `weights_only=False` (the current default value), which uses the default pickle module implicitly. It is possible to construct malicious pickle data which will execute arbitrary code during unpickling (See https://github.com/pytorch/pytorch/blob/main/SECURITY.md#untrusted-models for more details). In a future release, the default value for `weights_only` will be flipped to `True`. This limits the functions that could be executed during unpickling. Arbitrary objects will no longer be allowed to be loaded via this mode unless they are explicitly allowlisted by the user via `torch.serialization.add_safe_globals`. We recommend you start setting `weights_only=True` for any use case where you don't have full control of the loaded file. Please open an issue on GitHub for any issues related to this experimental feature.\n",
      "  state_dict = torch.load(pretrained_vit_path, map_location=device)\n"
     ]
    }
   ],
   "source": [
    "\n",
    "device = torch.device('cuda' if torch.cuda.is_available() else 'cpu')\n",
    "\n",
    "\n",
    "vit = timm.create_model(\n",
    "    'vit_base_patch16_224.augreg2_in21k_ft_in1k',  \n",
    "    pretrained=False,  \n",
    "    num_classes=0      \n",
    ")\n",
    "\n",
    "\n",
    "num_features = vit.embed_dim  \n",
    "vit.head = nn.Sequential(\n",
    "    nn.Linear(num_features, 512),  \n",
    "    nn.ReLU(),\n",
    "    nn.Dropout(0.5),\n",
    "    nn.Linear(512, 2)  \n",
    ")\n",
    "\n",
    "\n",
    "pretrained_vit_path = './pretrained_models/vit_classifier.pth'\n",
    "state_dict = torch.load(pretrained_vit_path, map_location=device)\n",
    "vit.load_state_dict(state_dict)\n",
    "\n",
    "num_features = vit.embed_dim\n",
    "vit.head = nn.Identity()  "
   ]
  },
  {
   "cell_type": "code",
   "execution_count": null,
   "metadata": {},
   "outputs": [
    {
     "name": "stdout",
     "output_type": "stream",
     "text": [
      "Pretrained models loaded successfully.\n"
     ]
    },
    {
     "name": "stderr",
     "output_type": "stream",
     "text": [
      "c:\\Users\\jonec\\miniconda3\\envs\\general_ai\\lib\\site-packages\\torch\\nn\\modules\\transformer.py:307: UserWarning: enable_nested_tensor is True, but self.use_nested_tensor is False because encoder_layer.self_attn.batch_first was not True(use batch_first for better inference performance)\n",
      "  warnings.warn(f\"enable_nested_tensor is True, but self.use_nested_tensor is False because {why_not_sparsity_fast_path}\")\n",
      "C:\\Users\\jonec\\AppData\\Local\\Temp\\ipykernel_40252\\197938857.py:6: FutureWarning: You are using `torch.load` with `weights_only=False` (the current default value), which uses the default pickle module implicitly. It is possible to construct malicious pickle data which will execute arbitrary code during unpickling (See https://github.com/pytorch/pytorch/blob/main/SECURITY.md#untrusted-models for more details). In a future release, the default value for `weights_only` will be flipped to `True`. This limits the functions that could be executed during unpickling. Arbitrary objects will no longer be allowed to be loaded via this mode unless they are explicitly allowlisted by the user via `torch.serialization.add_safe_globals`. We recommend you start setting `weights_only=True` for any use case where you don't have full control of the loaded file. Please open an issue on GitHub for any issues related to this experimental feature.\n",
      "  checkpoint_conformer = torch.load(pretrained_conformer_path, map_location=device)\n",
      "C:\\Users\\jonec\\AppData\\Local\\Temp\\ipykernel_40252\\197938857.py:10: FutureWarning: You are using `torch.load` with `weights_only=False` (the current default value), which uses the default pickle module implicitly. It is possible to construct malicious pickle data which will execute arbitrary code during unpickling (See https://github.com/pytorch/pytorch/blob/main/SECURITY.md#untrusted-models for more details). In a future release, the default value for `weights_only` will be flipped to `True`. This limits the functions that could be executed during unpickling. Arbitrary objects will no longer be allowed to be loaded via this mode unless they are explicitly allowlisted by the user via `torch.serialization.add_safe_globals`. We recommend you start setting `weights_only=True` for any use case where you don't have full control of the loaded file. Please open an issue on GitHub for any issues related to this experimental feature.\n",
      "  checkpoint_dnn = torch.load(pretrained_dnn_path, map_location=device)\n"
     ]
    }
   ],
   "source": [
    "\n",
    "conformer = ConformerTinyBinary(embed_dim=256).to(device)\n",
    "feedforward = FeedforwardNN(input_dim=43, hidden_dim=128, output_dim=2).to(device)\n",
    "\n",
    "\n",
    "checkpoint_conformer = torch.load(pretrained_conformer_path, map_location=device)\n",
    "conformer.load_state_dict(checkpoint_conformer['model_state_dict'])\n",
    "\n",
    "\n",
    "checkpoint_dnn = torch.load(pretrained_dnn_path, map_location=device)\n",
    "feedforward.load_state_dict(checkpoint_dnn['model_state_dict'])\n",
    "\n",
    "\n",
    "print(\"Pretrained models loaded successfully.\")"
   ]
  },
  {
   "cell_type": "code",
   "execution_count": 16,
   "metadata": {},
   "outputs": [],
   "source": [
    "fusion_hidden_dim = 256\n",
    "dropout_rate = 0.0\n",
    "num_epochs = 50\n",
    "learning_rate = 1e-5\n",
    "\n",
    "fusion_model = FusionModel(\n",
    "    conformer=conformer,\n",
    "    feedforward=feedforward,\n",
    "    resnet=resnet,\n",
    "    vit=vit,\n",
    "    conformer_embed_dim=256,\n",
    "    feedforward_embed_dim=128,\n",
    "    resnet_embed_dim=2048,\n",
    "    vit_embed_dim=768,\n",
    "    fusion_hidden_dim=fusion_hidden_dim,\n",
    "    output_dim=2,\n",
    "    dropout_rate=dropout_rate\n",
    ").to(device)"
   ]
  },
  {
   "cell_type": "markdown",
   "metadata": {},
   "source": [
    "## Train"
   ]
  },
  {
   "cell_type": "code",
   "execution_count": 17,
   "metadata": {},
   "outputs": [],
   "source": [
    "def train_one_epoch(model, dataloader, criterion, optimizer, device):\n",
    "    model.train()\n",
    "    running_loss = 0.0\n",
    "    correct = 0\n",
    "    for image, metadata, labels in dataloader:\n",
    "        image, metadata, labels = image.to(device), metadata.to(device), labels.to(device)\n",
    "        optimizer.zero_grad()\n",
    "        outputs = model(image, metadata)\n",
    "        loss = criterion(outputs, labels)\n",
    "        loss.backward()\n",
    "        optimizer.step()\n",
    "        running_loss += loss.item() * image.size(0)\n",
    "        _, preds = torch.max(outputs, 1)\n",
    "        correct += torch.sum(preds == labels).item()\n",
    "    return running_loss / len(dataloader.dataset), correct / len(dataloader.dataset)\n",
    "\n",
    "def validate(model, dataloader, criterion, device):\n",
    "    model.eval()\n",
    "    running_loss = 0.0\n",
    "    correct = 0\n",
    "    with torch.no_grad():\n",
    "        for image, metadata, labels in dataloader:\n",
    "            image, metadata, labels = image.to(device), metadata.to(device), labels.to(device)\n",
    "            outputs = model(image, metadata)\n",
    "            loss = criterion(outputs, labels)\n",
    "            running_loss += loss.item() * image.size(0)\n",
    "            _, preds = torch.max(outputs, 1)\n",
    "            correct += torch.sum(preds == labels).item()\n",
    "    return running_loss / len(dataloader.dataset), correct / len(dataloader.dataset)\n"
   ]
  },
  {
   "cell_type": "code",
   "execution_count": 18,
   "metadata": {},
   "outputs": [],
   "source": [
    "def train_one_epoch(model, dataloader, criterion, optimizer, device):\n",
    "    model.train()\n",
    "    running_loss = 0.0\n",
    "    correct = 0\n",
    "    for image_conformer, image_vit, metadata, labels in dataloader:\n",
    "        image_conformer, image_vit, metadata, labels = (\n",
    "            image_conformer.to(device),\n",
    "            image_vit.to(device),\n",
    "            metadata.to(device),\n",
    "            labels.to(device),\n",
    "        )\n",
    "        optimizer.zero_grad()\n",
    "        outputs = model(image_conformer, image_vit, metadata)\n",
    "        loss = criterion(outputs, labels)\n",
    "        loss.backward()\n",
    "        optimizer.step()\n",
    "        running_loss += loss.item() * image_conformer.size(0)\n",
    "        _, preds = torch.max(outputs, 1)\n",
    "        correct += torch.sum(preds == labels).item()\n",
    "    return running_loss / len(dataloader.dataset), correct / len(dataloader.dataset)\n",
    "\n",
    "\n",
    "def validate(model, dataloader, criterion, device):\n",
    "    model.eval()\n",
    "    running_loss = 0.0\n",
    "    correct = 0\n",
    "    with torch.no_grad():\n",
    "        for image_conformer, image_vit, metadata, labels in dataloader:\n",
    "            image_conformer, image_vit, metadata, labels = (\n",
    "                image_conformer.to(device),\n",
    "                image_vit.to(device),\n",
    "                metadata.to(device),\n",
    "                labels.to(device),\n",
    "            )\n",
    "            outputs = model(image_conformer, image_vit, metadata)\n",
    "            loss = criterion(outputs, labels)\n",
    "            running_loss += loss.item() * image_conformer.size(0)\n",
    "            _, preds = torch.max(outputs, 1)\n",
    "            correct += torch.sum(preds == labels).item()\n",
    "    return running_loss / len(dataloader.dataset), correct / len(dataloader.dataset)"
   ]
  },
  {
   "cell_type": "code",
   "execution_count": null,
   "metadata": {},
   "outputs": [],
   "source": [
    "\n",
    "model_dir = \"saved_models\"\n",
    "os.makedirs(model_dir, exist_ok=True)\n",
    "best_model_path = os.path.join(model_dir, \"best_model.pth\")\n",
    "params_file_path = os.path.join(model_dir, \"model_params.txt\")\n"
   ]
  },
  {
   "cell_type": "code",
   "execution_count": null,
   "metadata": {},
   "outputs": [
    {
     "name": "stderr",
     "output_type": "stream",
     "text": [
      "c:\\Users\\jonec\\miniconda3\\envs\\general_ai\\lib\\site-packages\\torch\\nn\\functional.py:5560: UserWarning: 1Torch was not compiled with flash attention. (Triggered internally at C:\\actions-runner\\_work\\pytorch\\pytorch\\builder\\windows\\pytorch\\aten\\src\\ATen\\native\\transformers\\cuda\\sdp_utils.cpp:555.)\n",
      "  attn_output = scaled_dot_product_attention(q, k, v, attn_mask, dropout_p, is_causal)\n"
     ]
    },
    {
     "name": "stdout",
     "output_type": "stream",
     "text": [
      "Saved new best model with val loss 0.5414 at epoch 1\n",
      "Epoch 1/50 - Train Loss: 0.6201, Train Acc: 0.7479, Val Loss: 0.5414, Val Acc: 0.8684\n",
      "Saved new best model with val loss 0.4006 at epoch 2\n",
      "Epoch 2/50 - Train Loss: 0.4458, Train Acc: 0.9143, Val Loss: 0.4006, Val Acc: 0.8947\n",
      "Saved new best model with val loss 0.3130 at epoch 3\n",
      "Epoch 3/50 - Train Loss: 0.3413, Train Acc: 0.9242, Val Loss: 0.3130, Val Acc: 0.9211\n",
      "Saved new best model with val loss 0.2618 at epoch 4\n",
      "Epoch 4/50 - Train Loss: 0.2781, Train Acc: 0.9242, Val Loss: 0.2618, Val Acc: 0.9211\n",
      "Saved new best model with val loss 0.2331 at epoch 5\n",
      "Epoch 5/50 - Train Loss: 0.2412, Train Acc: 0.9292, Val Loss: 0.2331, Val Acc: 0.9211\n",
      "Saved new best model with val loss 0.2212 at epoch 6\n",
      "Epoch 6/50 - Train Loss: 0.2195, Train Acc: 0.9292, Val Loss: 0.2212, Val Acc: 0.9211\n",
      "Saved new best model with val loss 0.2136 at epoch 7\n",
      "Epoch 7/50 - Train Loss: 0.2089, Train Acc: 0.9308, Val Loss: 0.2136, Val Acc: 0.9211\n",
      "Saved new best model with val loss 0.2095 at epoch 8\n",
      "Epoch 8/50 - Train Loss: 0.1995, Train Acc: 0.9325, Val Loss: 0.2095, Val Acc: 0.9211\n",
      "Saved new best model with val loss 0.2070 at epoch 9\n",
      "Epoch 9/50 - Train Loss: 0.1938, Train Acc: 0.9341, Val Loss: 0.2070, Val Acc: 0.9211\n",
      "Saved new best model with val loss 0.2047 at epoch 10\n",
      "Epoch 10/50 - Train Loss: 0.1895, Train Acc: 0.9325, Val Loss: 0.2047, Val Acc: 0.9211\n",
      "Saved new best model with val loss 0.2029 at epoch 11\n",
      "Epoch 11/50 - Train Loss: 0.1855, Train Acc: 0.9357, Val Loss: 0.2029, Val Acc: 0.9211\n",
      "Saved new best model with val loss 0.2018 at epoch 12\n",
      "Epoch 12/50 - Train Loss: 0.1830, Train Acc: 0.9357, Val Loss: 0.2018, Val Acc: 0.9079\n",
      "Epoch 13/50 - Train Loss: 0.1781, Train Acc: 0.9357, Val Loss: 0.2020, Val Acc: 0.9211\n",
      "Saved new best model with val loss 0.2012 at epoch 14\n",
      "Epoch 14/50 - Train Loss: 0.1757, Train Acc: 0.9341, Val Loss: 0.2012, Val Acc: 0.9211\n",
      "Epoch 15/50 - Train Loss: 0.1746, Train Acc: 0.9374, Val Loss: 0.2021, Val Acc: 0.9211\n",
      "Saved new best model with val loss 0.2012 at epoch 16\n",
      "Epoch 16/50 - Train Loss: 0.1690, Train Acc: 0.9357, Val Loss: 0.2012, Val Acc: 0.9211\n",
      "Epoch 17/50 - Train Loss: 0.1657, Train Acc: 0.9390, Val Loss: 0.2017, Val Acc: 0.9211\n",
      "Epoch 18/50 - Train Loss: 0.1618, Train Acc: 0.9407, Val Loss: 0.2021, Val Acc: 0.9211\n",
      "Epoch 19/50 - Train Loss: 0.1592, Train Acc: 0.9407, Val Loss: 0.2028, Val Acc: 0.9211\n",
      "Epoch 20/50 - Train Loss: 0.1560, Train Acc: 0.9423, Val Loss: 0.2043, Val Acc: 0.9211\n",
      "Epoch 21/50 - Train Loss: 0.1511, Train Acc: 0.9440, Val Loss: 0.2049, Val Acc: 0.9211\n",
      "Epoch 22/50 - Train Loss: 0.1497, Train Acc: 0.9423, Val Loss: 0.2065, Val Acc: 0.9211\n",
      "Epoch 23/50 - Train Loss: 0.1464, Train Acc: 0.9456, Val Loss: 0.2085, Val Acc: 0.9211\n",
      "Epoch 24/50 - Train Loss: 0.1435, Train Acc: 0.9473, Val Loss: 0.2109, Val Acc: 0.9211\n",
      "Epoch 25/50 - Train Loss: 0.1363, Train Acc: 0.9440, Val Loss: 0.2140, Val Acc: 0.9079\n",
      "Epoch 26/50 - Train Loss: 0.1358, Train Acc: 0.9456, Val Loss: 0.2184, Val Acc: 0.9079\n",
      "Epoch 27/50 - Train Loss: 0.1326, Train Acc: 0.9506, Val Loss: 0.2220, Val Acc: 0.9211\n",
      "Epoch 28/50 - Train Loss: 0.1271, Train Acc: 0.9539, Val Loss: 0.2254, Val Acc: 0.9211\n",
      "Epoch 29/50 - Train Loss: 0.1237, Train Acc: 0.9522, Val Loss: 0.2297, Val Acc: 0.9211\n",
      "Epoch 30/50 - Train Loss: 0.1245, Train Acc: 0.9539, Val Loss: 0.2342, Val Acc: 0.9211\n",
      "Epoch 31/50 - Train Loss: 0.1162, Train Acc: 0.9539, Val Loss: 0.2378, Val Acc: 0.9342\n",
      "Epoch 32/50 - Train Loss: 0.1143, Train Acc: 0.9621, Val Loss: 0.2394, Val Acc: 0.9342\n",
      "Epoch 33/50 - Train Loss: 0.1119, Train Acc: 0.9654, Val Loss: 0.2426, Val Acc: 0.9342\n",
      "Epoch 34/50 - Train Loss: 0.1155, Train Acc: 0.9621, Val Loss: 0.2454, Val Acc: 0.9211\n",
      "Epoch 35/50 - Train Loss: 0.1051, Train Acc: 0.9654, Val Loss: 0.2486, Val Acc: 0.9342\n",
      "Epoch 36/50 - Train Loss: 0.1019, Train Acc: 0.9621, Val Loss: 0.2524, Val Acc: 0.9342\n",
      "Epoch 37/50 - Train Loss: 0.1050, Train Acc: 0.9654, Val Loss: 0.2585, Val Acc: 0.9211\n",
      "Epoch 38/50 - Train Loss: 0.1023, Train Acc: 0.9671, Val Loss: 0.2572, Val Acc: 0.9211\n",
      "Epoch 39/50 - Train Loss: 0.0998, Train Acc: 0.9654, Val Loss: 0.2587, Val Acc: 0.9342\n",
      "Epoch 40/50 - Train Loss: 0.0964, Train Acc: 0.9720, Val Loss: 0.2607, Val Acc: 0.9342\n",
      "Epoch 41/50 - Train Loss: 0.0981, Train Acc: 0.9703, Val Loss: 0.2638, Val Acc: 0.9342\n",
      "Epoch 42/50 - Train Loss: 0.0926, Train Acc: 0.9720, Val Loss: 0.2671, Val Acc: 0.9342\n",
      "Epoch 43/50 - Train Loss: 0.0918, Train Acc: 0.9703, Val Loss: 0.2677, Val Acc: 0.9342\n",
      "Epoch 44/50 - Train Loss: 0.0950, Train Acc: 0.9720, Val Loss: 0.2689, Val Acc: 0.9342\n",
      "Epoch 45/50 - Train Loss: 0.0918, Train Acc: 0.9736, Val Loss: 0.2674, Val Acc: 0.9342\n",
      "Epoch 46/50 - Train Loss: 0.0859, Train Acc: 0.9703, Val Loss: 0.2725, Val Acc: 0.9342\n",
      "Epoch 47/50 - Train Loss: 0.0897, Train Acc: 0.9703, Val Loss: 0.2785, Val Acc: 0.9079\n",
      "Epoch 48/50 - Train Loss: 0.0821, Train Acc: 0.9736, Val Loss: 0.2785, Val Acc: 0.9211\n",
      "Epoch 49/50 - Train Loss: 0.0816, Train Acc: 0.9736, Val Loss: 0.2783, Val Acc: 0.9079\n",
      "Epoch 50/50 - Train Loss: 0.0843, Train Acc: 0.9687, Val Loss: 0.2837, Val Acc: 0.9079\n"
     ]
    }
   ],
   "source": [
    "criterion = nn.CrossEntropyLoss()\n",
    "optimizer = optim.Adam(fusion_model.parameters(), lr=learning_rate)\n",
    "\n",
    "\n",
    "train_losses, val_losses = [], []\n",
    "train_accuracies, val_accuracies = [], []\n",
    "best_val_loss = float(\"inf\")\n",
    "\n",
    "for epoch in range(num_epochs):\n",
    "    \n",
    "    train_loss, train_acc = train_one_epoch(fusion_model, train_loader, criterion, optimizer, device)\n",
    "    train_losses.append(train_loss)\n",
    "    train_accuracies.append(train_acc)\n",
    "\n",
    "    \n",
    "    val_loss, val_acc = validate(fusion_model, val_loader, criterion, device)\n",
    "    val_losses.append(val_loss)\n",
    "    val_accuracies.append(val_acc)\n",
    "\n",
    "    \n",
    "    if val_loss < best_val_loss:\n",
    "        best_val_loss = val_loss\n",
    "        torch.save({\n",
    "            \"epoch\": epoch + 1,\n",
    "            \"model_state_dict\": fusion_model.state_dict(),\n",
    "            \"optimizer_state_dict\": optimizer.state_dict(),\n",
    "            \"val_loss\": best_val_loss,\n",
    "        }, best_model_path)\n",
    "        print(f\"Saved new best model with val loss {val_loss:.4f} at epoch {epoch + 1}\")\n",
    "\n",
    "    print(f\"Epoch {epoch+1}/{num_epochs} - Train Loss: {train_loss:.4f}, Train Acc: {train_acc:.4f}, \"\n",
    "          f\"Val Loss: {val_loss:.4f}, Val Acc: {val_acc:.4f}\")"
   ]
  },
  {
   "cell_type": "markdown",
   "metadata": {},
   "source": [
    "## Evaluation"
   ]
  },
  {
   "cell_type": "code",
   "execution_count": null,
   "metadata": {},
   "outputs": [],
   "source": [
    "def custom_metric(y_true, y_pred_proba, min_tpr=0.8):\n",
    "    \"\"\"\n",
    "    Calculate the partial AUC (pAUC) based on a minimum TPR threshold.\n",
    "    \"\"\"\n",
    "    y_true = np.array(y_true)\n",
    "    y_pred_proba = np.array(y_pred_proba)\n",
    "\n",
    "    max_fpr = 1 - min_tpr\n",
    "    v_gt = abs(y_true - 1)  \n",
    "    v_pred = 1.0 - y_pred_proba  \n",
    "\n",
    "    pauc_scaled = roc_auc_score(v_gt, v_pred, max_fpr=max_fpr)\n",
    "    pauc = 0.5 * max_fpr**2 + (max_fpr - 0.5 * max_fpr**2) / (1.0 - 0.5) * (pauc_scaled - 0.5)\n",
    "\n",
    "    return pauc"
   ]
  },
  {
   "cell_type": "code",
   "execution_count": null,
   "metadata": {},
   "outputs": [
    {
     "name": "stdout",
     "output_type": "stream",
     "text": [
      "Loading best model from: saved_models\\best_model.pth\n"
     ]
    },
    {
     "name": "stderr",
     "output_type": "stream",
     "text": [
      "C:\\Users\\jonec\\AppData\\Local\\Temp\\ipykernel_40252\\1481363471.py:2: FutureWarning: You are using `torch.load` with `weights_only=False` (the current default value), which uses the default pickle module implicitly. It is possible to construct malicious pickle data which will execute arbitrary code during unpickling (See https://github.com/pytorch/pytorch/blob/main/SECURITY.md#untrusted-models for more details). In a future release, the default value for `weights_only` will be flipped to `True`. This limits the functions that could be executed during unpickling. Arbitrary objects will no longer be allowed to be loaded via this mode unless they are explicitly allowlisted by the user via `torch.serialization.add_safe_globals`. We recommend you start setting `weights_only=True` for any use case where you don't have full control of the loaded file. Please open an issue on GitHub for any issues related to this experimental feature.\n",
      "  checkpoint = torch.load(best_model_path)\n"
     ]
    },
    {
     "name": "stdout",
     "output_type": "stream",
     "text": [
      "Test Loss: 0.1848, Test Accuracy: 0.9474\n",
      "Test Classification Report:\n",
      "              precision    recall  f1-score   support\n",
      "\n",
      "           0       0.93      0.97      0.95        38\n",
      "           1       0.97      0.92      0.95        38\n",
      "\n",
      "    accuracy                           0.95        76\n",
      "   macro avg       0.95      0.95      0.95        76\n",
      "weighted avg       0.95      0.95      0.95        76\n",
      "\n",
      "Partial AUC (pAUC): 0.1850\n"
     ]
    }
   ],
   "source": [
    "print(f\"Loading best model from: {best_model_path}\")\n",
    "checkpoint = torch.load(best_model_path)\n",
    "fusion_model.load_state_dict(checkpoint[\"model_state_dict\"])\n",
    "\n",
    "fusion_model.eval()\n",
    "y_true, y_pred, y_pred_proba = [], [], []\n",
    "\n",
    "test_loss, test_corrects = 0.0, 0\n",
    "with torch.no_grad():\n",
    "    for image_conformer, image_vit, metadata, labels in test_loader:\n",
    "        image_conformer, image_vit, metadata, labels = (\n",
    "            image_conformer.to(device),\n",
    "            image_vit.to(device),\n",
    "            metadata.to(device),\n",
    "            labels.to(device),\n",
    "        )\n",
    "        outputs = fusion_model(image_conformer, image_vit, metadata)\n",
    "        loss = criterion(outputs, labels)\n",
    "        test_loss += loss.item() * image_conformer.size(0)\n",
    "        _, preds = torch.max(outputs, 1)\n",
    "        y_true.extend(labels.cpu().numpy())\n",
    "        y_pred.extend(preds.cpu().numpy())\n",
    "        y_pred_proba.extend(torch.softmax(outputs, dim=1)[:, 1].cpu().numpy())\n",
    "        test_corrects += torch.sum(preds == labels).item()\n",
    "\n",
    "\n",
    "\n",
    "test_loss /= len(test_loader.dataset)\n",
    "test_accuracy = test_corrects / len(test_loader.dataset)\n",
    "print(f\"Test Loss: {test_loss:.4f}, Test Accuracy: {test_accuracy:.4f}\")\n",
    "print(\"Test Classification Report:\")\n",
    "print(classification_report(y_true, y_pred))\n",
    "\n",
    "partial_auc = custom_metric(y_true, y_pred_proba)\n",
    "print(f\"Partial AUC (pAUC): {partial_auc:.4f}\")\n"
   ]
  },
  {
   "cell_type": "markdown",
   "metadata": {},
   "source": [
    "## Plotting"
   ]
  },
  {
   "cell_type": "code",
   "execution_count": null,
   "metadata": {},
   "outputs": [
    {
     "data": {
      "image/png": "[encoded data removed]",
      "text/plain": [
       "<Figure size 1000x600 with 1 Axes>"
      ]
     },
     "metadata": {},
     "output_type": "display_data"
    },
    {
     "name": "stdout",
     "output_type": "stream",
     "text": [
      "Saved plot: saved_models\\train_val_loss.png\n"
     ]
    },
    {
     "data": {
      "image/png": "[encoded data removed]",
      "text/plain": [
       "<Figure size 1000x600 with 1 Axes>"
      ]
     },
     "metadata": {},
     "output_type": "display_data"
    },
    {
     "name": "stdout",
     "output_type": "stream",
     "text": [
      "Saved plot: saved_models\\train_val_accuracy.png\n"
     ]
    },
    {
     "data": {
      "image/png": "[encoded data removed]",
      "text/plain": [
       "<Figure size 800x600 with 1 Axes>"
      ]
     },
     "metadata": {},
     "output_type": "display_data"
    },
    {
     "name": "stdout",
     "output_type": "stream",
     "text": [
      "ROC Curve saved at: saved_models\\roc_curve.png\n",
      "Model parameters saved to saved_models\\model_params.txt\n"
     ]
    }
   ],
   "source": [
    "def save_plot(values, title, xlabel, ylabel, filename, labels=None, extra=None):\n",
    "    plt.figure(figsize=(10, 6))\n",
    "    for idx, val in enumerate(values):\n",
    "        plt.plot(range(1, len(val) + 1), val, label=labels[idx] if labels else f\"Curve {idx + 1}\")\n",
    "    if extra:\n",
    "        for line in extra:\n",
    "            plt.axhline(**line)\n",
    "    plt.title(title)\n",
    "    plt.xlabel(xlabel)\n",
    "    plt.ylabel(ylabel)\n",
    "    plt.legend()\n",
    "    plt.grid()\n",
    "    plt.savefig(filename, bbox_inches=\"tight\")\n",
    "    plt.show()\n",
    "    print(f\"Saved plot: {filename}\")\n",
    "\n",
    "\n",
    "save_plot(\n",
    "    [train_losses, val_losses],\n",
    "    \"Train vs Validation Loss\",\n",
    "    \"Epochs\",\n",
    "    \"Loss\",\n",
    "    os.path.join(model_dir, \"train_val_loss.png\"),\n",
    "    labels=[\"Train Loss\", \"Validation Loss\"],\n",
    "    extra=[{\"y\": test_loss, \"color\": \"r\", \"linestyle\": \"--\", \"label\": f\"Test Loss: {test_loss:.4f}\"}],\n",
    ")\n",
    "\n",
    "\n",
    "save_plot(\n",
    "    [train_accuracies, val_accuracies],\n",
    "    \"Train vs Validation Accuracy\",\n",
    "    \"Epochs\",\n",
    "    \"Accuracy\",\n",
    "    os.path.join(model_dir, \"train_val_accuracy.png\"),\n",
    "    labels=[\"Train Accuracy\", \"Validation Accuracy\"],\n",
    "    extra=[{\"y\": test_accuracy, \"color\": \"r\", \"linestyle\": \"--\", \"label\": f\"Test Accuracy: {test_accuracy:.4f}\"}],\n",
    ")\n",
    "\n",
    "\n",
    "fpr, tpr, _ = roc_curve(y_true, y_pred_proba)\n",
    "plt.figure(figsize=(8, 6))\n",
    "plt.plot(fpr, tpr, label=f\"ROC Curve (AUC = {roc_auc_score(y_true, y_pred_proba):.4f})\", linewidth=2)\n",
    "plt.fill_between(fpr, tpr, alpha=0.2, label=f\"pAUC = {partial_auc:.4f} (TPR >= 0.8)\")\n",
    "plt.xlabel(\"False Positive Rate\")\n",
    "plt.ylabel(\"True Positive Rate\")\n",
    "plt.title(\"ROC Curve\")\n",
    "plt.legend(loc=\"lower right\")\n",
    "plt.grid(True)\n",
    "roc_curve_path = os.path.join(model_dir, \"roc_curve.png\")\n",
    "plt.savefig(roc_curve_path, bbox_inches=\"tight\")\n",
    "plt.show()\n",
    "print(f\"ROC Curve saved at: {roc_curve_path}\")\n",
    "\n",
    "\n",
    "with open(params_file_path, \"w\") as f:\n",
    "    f.write(\"Model Architecture:\\n\")\n",
    "    f.write(str(fusion_model) + \"\\n\\n\")\n",
    "    f.write(\"Hyperparameters:\\n\")\n",
    "    f.write(f\"Batch Size: {batch_size}\\n\")\n",
    "    f.write(f\"Learning Rate: {optimizer.param_groups[0]['lr']}\\n\")\n",
    "    f.write(f\"Number of Epochs: {num_epochs}\\n\")\n",
    "    f.write(f\"Dropout Rate: {dropout_rate}\\n\")  \n",
    "    f.write(f\"Learning Rate: {learning_rate}\\n\")\n",
    "    f.write(\"Optimizer: Adam\\n\")\n",
    "    f.write(\"Loss Function: CrossEntropyLoss\\n\\n\")\n",
    "    f.write(\"Training Results:\\n\")\n",
    "    f.write(f\"Final Train Loss: {train_losses[-1]:.4f}\\n\")\n",
    "    f.write(f\"Final Train Accuracy: {train_accuracies[-1]:.4f}\\n\\n\")\n",
    "    f.write(\"Validation Results:\\n\")\n",
    "    f.write(f\"Best Validation Loss: {best_val_loss:.4f}\\n\")\n",
    "    f.write(f\"Best Validation Accuracy: {max(val_accuracies):.4f}\\n\\n\")\n",
    "    f.write(\"Test Results:\\n\")\n",
    "    f.write(f\"Test Loss: {test_loss:.4f}\\n\")\n",
    "    f.write(f\"Test Accuracy: {test_accuracy:.4f}\\n\")\n",
    "    f.write(f\"Partial AUC (pAUC): {partial_auc:.4f}\\n\")\n",
    "    f.write(f\"ROC AUC: {roc_auc_score(y_true, y_pred_proba):.4f}\\n\")\n",
    "print(f\"Model parameters saved to {params_file_path}\")"
   ]
  },
  {
   "cell_type": "code",
   "execution_count": null,
   "metadata": {},
   "outputs": [],
   "source": []
  }
 ],
 "metadata": {
  "kernelspec": {
   "display_name": "general_ai",
   "language": "python",
   "name": "python3"
  },
  "language_info": {
   "codemirror_mode": {
    "name": "ipython",
    "version": 3
   },
   "file_extension": ".py",
   "mimetype": "text/x-python",
   "name": "python",
   "nbconvert_exporter": "python",
   "pygments_lexer": "ipython3",
   "version": "3.9.19"
  }
 },
 "nbformat": 4,
 "nbformat_minor": 2
}
