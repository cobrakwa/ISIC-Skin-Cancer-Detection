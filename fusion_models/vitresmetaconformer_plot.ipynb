{
 "cells": [
  {
   "cell_type": "markdown",
   "metadata": {},
   "source": [
    "## Imports"
   ]
  },
  {
   "cell_type": "code",
   "execution_count": 1,
   "metadata": {},
   "outputs": [],
   "source": [
    "import os\n",
    "import torch\n",
    "import torch.nn as nn\n",
    "import torch.optim as optim\n",
    "from torch.utils.data import DataLoader, Dataset, random_split\n",
    "from torchvision import transforms\n",
    "from PIL import Image\n",
    "import pandas as pd\n",
    "import numpy as np\n",
    "import json\n",
    "from tqdm import tqdm\n",
    "import matplotlib.pyplot as plt\n",
    "from sklearn.metrics import classification_report, roc_auc_score, roc_curve\n",
    "from sklearn.model_selection import train_test_split\n",
    "from torchvision.models import resnet50, vit_b_16\n",
    "import timm"
   ]
  },
  {
   "cell_type": "markdown",
   "metadata": {},
   "source": [
    "## Config"
   ]
  },
  {
   "cell_type": "code",
   "execution_count": 2,
   "metadata": {},
   "outputs": [
    {
     "name": "stdout",
     "output_type": "stream",
     "text": [
      "Using device: cuda\n"
     ]
    }
   ],
   "source": [
    "SEED = 42\n",
    "torch.manual_seed(SEED)\n",
    "np.random.seed(SEED)\n",
    "device = torch.device(\"cuda\" if torch.cuda.is_available() else \"cpu\")\n",
    "print(f\"Using device: {device}\")"
   ]
  },
  {
   "cell_type": "code",
   "execution_count": null,
   "metadata": {},
   "outputs": [],
   "source": [
    "\n",
    "metadata_path = '../data/balanced_data/normalized_metadata.csv'\n",
    "normalization_params_path = '../data/balanced_data/normalization_params.json'\n",
    "image_dir = '../data/balanced_data'\n",
    "pretrained_conformer_path = './pretrained_models/conformer.pth'\n",
    "pretrained_dnn_path = './pretrained_models/dnn.pth'\n",
    "pretrained_vit_path = './pretrained_models/vit_classifier.pth'\n",
    "fusion_model_save_path = './fusion_model.pth'"
   ]
  },
  {
   "cell_type": "code",
   "execution_count": null,
   "metadata": {},
   "outputs": [],
   "source": [
    "\n",
    "with open(normalization_params_path, 'r') as f:\n",
    "    normalization_params = json.load(f)"
   ]
  },
  {
   "cell_type": "markdown",
   "metadata": {},
   "source": [
    "## Dataset"
   ]
  },
  {
   "cell_type": "code",
   "execution_count": null,
   "metadata": {},
   "outputs": [],
   "source": [
    "class FusionDataset(Dataset):\n",
    "    def __init__(self, metadata_path, image_dir, normalization_params, transform_conformer, transform_vit):\n",
    "        self.metadata = pd.read_csv(metadata_path)\n",
    "        self.image_dir = image_dir\n",
    "        self.transform_conformer = transform_conformer\n",
    "        self.transform_vit = transform_vit\n",
    "        self.labels = self.metadata['target'].values.astype(int)\n",
    "        \n",
    "        \n",
    "        columns_to_drop = [\n",
    "            \"isic_id\", \"target\", \"patient_id\", \"anatom_site_general\", \"image_type\",\n",
    "            \"tbp_tile_type\", \"attribution\", \"copyright_license\", \"lesion_id\", \"iddx_full\",\n",
    "            \"iddx_1\", \"iddx_2\", \"iddx_3\", \"iddx_4\", \"iddx_5\", \"mel_mitotic_index\",\n",
    "            \"mel_thick_mm\", \"tbp_lv_dnn_lesion_confidence\"\n",
    "        ]\n",
    "        metadata_features = self.metadata.drop(columns=columns_to_drop, errors='ignore')\n",
    "        for col, params in normalization_params.items():\n",
    "            if col in metadata_features.columns:\n",
    "                col_min = params['min']\n",
    "                col_max = params['max']\n",
    "                metadata_features[col] = (metadata_features[col] - col_min) / (col_max - col_min)\n",
    "        self.metadata_features = metadata_features.values.astype(np.float32)\n",
    "\n",
    "    def __len__(self):\n",
    "        return len(self.metadata)\n",
    "\n",
    "    def __getitem__(self, idx):\n",
    "        isic_id = self.metadata.iloc[idx]['isic_id']\n",
    "        label = self.labels[idx]\n",
    "        metadata_features = torch.tensor(self.metadata_features[idx], dtype=torch.float32)\n",
    "        folder = '1' if label == 1 else '0'\n",
    "        image_path = os.path.join(self.image_dir, folder, f\"{isic_id}.jpg\")\n",
    "        image = Image.open(image_path).convert(\"RGB\")\n",
    "\n",
    "        \n",
    "        image_conformer = self.transform_conformer(image)\n",
    "        image_vit = self.transform_vit(image)\n",
    "\n",
    "        \n",
    "        label = torch.tensor(label, dtype=torch.long)\n",
    "\n",
    "        return image_conformer, image_vit, metadata_features, label\n"
   ]
  },
  {
   "cell_type": "code",
   "execution_count": null,
   "metadata": {},
   "outputs": [],
   "source": [
    "\n",
    "transform_conformer = transforms.Compose([\n",
    "    transforms.Resize((128, 128)),  \n",
    "    transforms.ToTensor(),\n",
    "    transforms.Normalize(mean=[0.5], std=[0.5])\n",
    "])\n",
    "\n",
    "transform_vit = transforms.Compose([\n",
    "    transforms.Resize((224, 224)),  \n",
    "    transforms.ToTensor(),\n",
    "    transforms.Normalize(mean=[0.5], std=[0.5])\n",
    "])\n"
   ]
  },
  {
   "cell_type": "code",
   "execution_count": null,
   "metadata": {},
   "outputs": [
    {
     "name": "stdout",
     "output_type": "stream",
     "text": [
      "Train size: 607, Validation size: 76, Test size: 76\n"
     ]
    }
   ],
   "source": [
    "\n",
    "\n",
    "\n",
    "dataset = FusionDataset(\n",
    "    metadata_path=metadata_path,\n",
    "    image_dir=image_dir,\n",
    "    normalization_params=normalization_params,\n",
    "    transform_conformer=transform_conformer,\n",
    "    transform_vit=transform_vit\n",
    ")\n",
    "\n",
    "train_size = int(0.8 * len(dataset))\n",
    "val_size = int(0.1 * len(dataset))\n",
    "test_size = len(dataset) - train_size - val_size\n",
    "\n",
    "train_indices, temp_indices = train_test_split(\n",
    "    range(len(dataset)),\n",
    "    test_size=0.2,\n",
    "    stratify=dataset.labels,\n",
    "    random_state=SEED\n",
    ")\n",
    "val_indices, test_indices = train_test_split(\n",
    "    temp_indices,\n",
    "    test_size=0.5,\n",
    "    stratify=dataset.labels[temp_indices],\n",
    "    random_state=SEED\n",
    ")\n",
    "train_dataset = torch.utils.data.Subset(dataset, train_indices)\n",
    "val_dataset = torch.utils.data.Subset(dataset, val_indices)\n",
    "test_dataset = torch.utils.data.Subset(dataset, test_indices)\n",
    "batch_size = 64\n",
    "train_loader = DataLoader(train_dataset, batch_size=batch_size, shuffle=True)\n",
    "val_loader = DataLoader(val_dataset, batch_size=batch_size, shuffle=False)\n",
    "test_loader = DataLoader(test_dataset, batch_size=batch_size, shuffle=False)\n",
    "\n",
    "\n",
    "print(f\"Train size: {len(train_loader.dataset)}, Validation size: {len(val_loader.dataset)}, Test size: {len(test_loader.dataset)}\")\n"
   ]
  },
  {
   "cell_type": "markdown",
   "metadata": {},
   "source": [
    "## Architecture"
   ]
  },
  {
   "cell_type": "code",
   "execution_count": null,
   "metadata": {},
   "outputs": [],
   "source": [
    "class ConformerTinyBinary(nn.Module):\n",
    "    def __init__(self, img_size=128, num_classes=2, embed_dim=256, num_heads=8, num_transformer_layers=3, dropout=0.2):\n",
    "        super(ConformerTinyBinary, self).__init__()\n",
    "        self.conv = nn.Sequential(\n",
    "            nn.Conv2d(3, embed_dim, kernel_size=3, stride=2, padding=1),\n",
    "            nn.BatchNorm2d(embed_dim),\n",
    "            nn.ReLU(),\n",
    "            nn.Dropout2d(dropout),\n",
    "            nn.Conv2d(embed_dim, embed_dim, kernel_size=3, stride=2, padding=1),\n",
    "            nn.BatchNorm2d(embed_dim),\n",
    "            nn.ReLU(),\n",
    "            nn.Dropout2d(dropout),\n",
    "            nn.Conv2d(embed_dim, embed_dim, kernel_size=3, stride=2, padding=1),\n",
    "            nn.BatchNorm2d(embed_dim),\n",
    "            nn.ReLU(),\n",
    "            nn.Dropout2d(dropout)\n",
    "        )\n",
    "        self.transformer = nn.TransformerEncoder(\n",
    "            nn.TransformerEncoderLayer(d_model=embed_dim, nhead=num_heads),\n",
    "            num_layers=num_transformer_layers\n",
    "        )\n",
    "        self.fc = nn.Linear(embed_dim, num_classes)\n",
    "\n",
    "    def forward(self, x):\n",
    "        x = self.conv(x)\n",
    "        b, c, h, w = x.shape\n",
    "        x = x.view(b, c, -1).permute(2, 0, 1)  \n",
    "        x = self.transformer(x)\n",
    "        x = x.mean(dim=0)  \n",
    "        return x"
   ]
  },
  {
   "cell_type": "code",
   "execution_count": 10,
   "metadata": {},
   "outputs": [],
   "source": [
    "class FeedforwardNN(torch.nn.Module):\n",
    "    def __init__(self, input_dim, hidden_dim, output_dim):\n",
    "        super(FeedforwardNN, self).__init__()\n",
    "        self.fc = torch.nn.Sequential(\n",
    "            torch.nn.Linear(input_dim, hidden_dim),\n",
    "            torch.nn.ReLU(),\n",
    "            torch.nn.Dropout(0.2),\n",
    "            torch.nn.Linear(hidden_dim, hidden_dim),\n",
    "            torch.nn.ReLU(),\n",
    "            torch.nn.Linear(hidden_dim, output_dim)\n",
    "        )\n",
    "\n",
    "    def forward(self, x):\n",
    "        return self.fc(x)"
   ]
  },
  {
   "cell_type": "code",
   "execution_count": null,
   "metadata": {},
   "outputs": [],
   "source": [
    "class FusionModel(nn.Module):\n",
    "    def __init__(self, conformer, feedforward, resnet, vit, conformer_embed_dim, feedforward_embed_dim, resnet_embed_dim, vit_embed_dim, fusion_hidden_dim, output_dim=2, dropout_rate=0.2):\n",
    "        super(FusionModel, self).__init__()\n",
    "        self.conformer = conformer\n",
    "        self.feedforward = feedforward\n",
    "        self.resnet = resnet\n",
    "        self.vit = vit\n",
    "\n",
    "        \n",
    "        total_embed_dim = conformer_embed_dim + feedforward_embed_dim + resnet_embed_dim + vit_embed_dim\n",
    "\n",
    "        self.fusion_fc = nn.Sequential(\n",
    "            nn.Linear(total_embed_dim, fusion_hidden_dim),\n",
    "            nn.ReLU(),\n",
    "            nn.Dropout(dropout_rate),\n",
    "            nn.Linear(fusion_hidden_dim, output_dim)\n",
    "        )\n",
    "\n",
    "    def forward(self, image_conformer, image_vit, metadata):\n",
    "        \n",
    "        x_conformer = self.conformer.conv(image_conformer)\n",
    "        b, c, h, w = x_conformer.shape\n",
    "        x_conformer = x_conformer.view(b, c, -1).permute(2, 0, 1)\n",
    "        x_conformer = self.conformer.transformer(x_conformer)\n",
    "        conformer_embed = x_conformer.mean(dim=0)  \n",
    "\n",
    "        \n",
    "        metadata_embed = self.feedforward.fc[:-1](metadata)  \n",
    "\n",
    "        \n",
    "        with torch.no_grad():  \n",
    "            resnet_embed = self.resnet(image_vit).squeeze()  \n",
    "\n",
    "        with torch.no_grad():  \n",
    "            vit_embed = self.vit(image_vit)  \n",
    "\n",
    "        \n",
    "        \n",
    "        \n",
    "        \n",
    "        \n",
    "\n",
    "        \n",
    "        fusion_input = torch.cat((conformer_embed, metadata_embed, resnet_embed, vit_embed), dim=1)\n",
    "\n",
    "        \n",
    "        \n",
    "\n",
    "        output = self.fusion_fc(fusion_input)\n",
    "        return output\n"
   ]
  },
  {
   "cell_type": "markdown",
   "metadata": {},
   "source": [
    "## Init"
   ]
  },
  {
   "cell_type": "code",
   "execution_count": null,
   "metadata": {},
   "outputs": [
    {
     "name": "stdout",
     "output_type": "stream",
     "text": [
      "Loading ResNet-50 from ./pretrained_models/resnet50.pth\n"
     ]
    },
    {
     "name": "stderr",
     "output_type": "stream",
     "text": [
      "C:\\Users\\jonec\\AppData\\Local\\Temp\\ipykernel_16348\\4186524744.py:6: FutureWarning: You are using `torch.load` with `weights_only=False` (the current default value), which uses the default pickle module implicitly. It is possible to construct malicious pickle data which will execute arbitrary code during unpickling (See https://github.com/pytorch/pytorch/blob/main/SECURITY.md#untrusted-models for more details). In a future release, the default value for `weights_only` will be flipped to `True`. This limits the functions that could be executed during unpickling. Arbitrary objects will no longer be allowed to be loaded via this mode unless they are explicitly allowlisted by the user via `torch.serialization.add_safe_globals`. We recommend you start setting `weights_only=True` for any use case where you don't have full control of the loaded file. Please open an issue on GitHub for any issues related to this experimental feature.\n",
      "  resnet.load_state_dict(torch.load(pretrained_resnet_path, map_location=device))\n"
     ]
    }
   ],
   "source": [
    "pretrained_resnet_path = './pretrained_models/resnet50.pth'\n",
    "\n",
    "if os.path.exists(pretrained_resnet_path):\n",
    "    print(f\"Loading ResNet-50 from {pretrained_resnet_path}\")\n",
    "    resnet = resnet50()\n",
    "    resnet.load_state_dict(torch.load(pretrained_resnet_path, map_location=device))\n",
    "else:\n",
    "    print(\"Downloading ResNet-50 pretrained weights...\")\n",
    "    resnet = resnet50(pretrained=True)\n",
    "    os.makedirs(os.path.dirname(pretrained_resnet_path), exist_ok=True)\n",
    "    torch.save(resnet.state_dict(), pretrained_resnet_path)\n",
    "    print(f\"ResNet-50 weights saved to {pretrained_resnet_path}\")\n",
    "\n",
    "resnet.fc = nn.Identity()\n",
    "\n"
   ]
  },
  {
   "cell_type": "code",
   "execution_count": null,
   "metadata": {},
   "outputs": [
    {
     "name": "stderr",
     "output_type": "stream",
     "text": [
      "C:\\Users\\jonec\\AppData\\Local\\Temp\\ipykernel_16348\\1249667131.py:23: FutureWarning: You are using `torch.load` with `weights_only=False` (the current default value), which uses the default pickle module implicitly. It is possible to construct malicious pickle data which will execute arbitrary code during unpickling (See https://github.com/pytorch/pytorch/blob/main/SECURITY.md#untrusted-models for more details). In a future release, the default value for `weights_only` will be flipped to `True`. This limits the functions that could be executed during unpickling. Arbitrary objects will no longer be allowed to be loaded via this mode unless they are explicitly allowlisted by the user via `torch.serialization.add_safe_globals`. We recommend you start setting `weights_only=True` for any use case where you don't have full control of the loaded file. Please open an issue on GitHub for any issues related to this experimental feature.\n",
      "  state_dict = torch.load(pretrained_vit_path, map_location=device)\n"
     ]
    }
   ],
   "source": [
    "\n",
    "device = torch.device('cuda' if torch.cuda.is_available() else 'cpu')\n",
    "\n",
    "\n",
    "vit = timm.create_model(\n",
    "    'vit_base_patch16_224.augreg2_in21k_ft_in1k',  \n",
    "    pretrained=False,  \n",
    "    num_classes=0      \n",
    ")\n",
    "\n",
    "\n",
    "num_features = vit.embed_dim  \n",
    "vit.head = nn.Sequential(\n",
    "    nn.Linear(num_features, 512),  \n",
    "    nn.ReLU(),\n",
    "    nn.Dropout(0.5),\n",
    "    nn.Linear(512, 2)  \n",
    ")\n",
    "criterion = nn.CrossEntropyLoss()\n",
    "\n",
    "\n",
    "pretrained_vit_path = './pretrained_models/vit_classifier.pth'\n",
    "state_dict = torch.load(pretrained_vit_path, map_location=device)\n",
    "vit.load_state_dict(state_dict)\n",
    "\n",
    "num_features = vit.embed_dim\n",
    "vit.head = nn.Identity()  "
   ]
  },
  {
   "cell_type": "code",
   "execution_count": null,
   "metadata": {},
   "outputs": [
    {
     "name": "stdout",
     "output_type": "stream",
     "text": [
      "Pretrained models loaded successfully.\n"
     ]
    },
    {
     "name": "stderr",
     "output_type": "stream",
     "text": [
      "c:\\Users\\jonec\\miniconda3\\envs\\general_ai\\lib\\site-packages\\torch\\nn\\modules\\transformer.py:307: UserWarning: enable_nested_tensor is True, but self.use_nested_tensor is False because encoder_layer.self_attn.batch_first was not True(use batch_first for better inference performance)\n",
      "  warnings.warn(f\"enable_nested_tensor is True, but self.use_nested_tensor is False because {why_not_sparsity_fast_path}\")\n",
      "C:\\Users\\jonec\\AppData\\Local\\Temp\\ipykernel_16348\\197938857.py:6: FutureWarning: You are using `torch.load` with `weights_only=False` (the current default value), which uses the default pickle module implicitly. It is possible to construct malicious pickle data which will execute arbitrary code during unpickling (See https://github.com/pytorch/pytorch/blob/main/SECURITY.md#untrusted-models for more details). In a future release, the default value for `weights_only` will be flipped to `True`. This limits the functions that could be executed during unpickling. Arbitrary objects will no longer be allowed to be loaded via this mode unless they are explicitly allowlisted by the user via `torch.serialization.add_safe_globals`. We recommend you start setting `weights_only=True` for any use case where you don't have full control of the loaded file. Please open an issue on GitHub for any issues related to this experimental feature.\n",
      "  checkpoint_conformer = torch.load(pretrained_conformer_path, map_location=device)\n",
      "C:\\Users\\jonec\\AppData\\Local\\Temp\\ipykernel_16348\\197938857.py:10: FutureWarning: You are using `torch.load` with `weights_only=False` (the current default value), which uses the default pickle module implicitly. It is possible to construct malicious pickle data which will execute arbitrary code during unpickling (See https://github.com/pytorch/pytorch/blob/main/SECURITY.md#untrusted-models for more details). In a future release, the default value for `weights_only` will be flipped to `True`. This limits the functions that could be executed during unpickling. Arbitrary objects will no longer be allowed to be loaded via this mode unless they are explicitly allowlisted by the user via `torch.serialization.add_safe_globals`. We recommend you start setting `weights_only=True` for any use case where you don't have full control of the loaded file. Please open an issue on GitHub for any issues related to this experimental feature.\n",
      "  checkpoint_dnn = torch.load(pretrained_dnn_path, map_location=device)\n"
     ]
    }
   ],
   "source": [
    "\n",
    "conformer = ConformerTinyBinary(embed_dim=256).to(device)\n",
    "feedforward = FeedforwardNN(input_dim=43, hidden_dim=128, output_dim=2).to(device)\n",
    "\n",
    "\n",
    "checkpoint_conformer = torch.load(pretrained_conformer_path, map_location=device)\n",
    "conformer.load_state_dict(checkpoint_conformer['model_state_dict'])\n",
    "\n",
    "\n",
    "checkpoint_dnn = torch.load(pretrained_dnn_path, map_location=device)\n",
    "feedforward.load_state_dict(checkpoint_dnn['model_state_dict'])\n",
    "\n",
    "\n",
    "print(\"Pretrained models loaded successfully.\")"
   ]
  },
  {
   "cell_type": "code",
   "execution_count": 15,
   "metadata": {},
   "outputs": [],
   "source": [
    "fusion_hidden_dim = 256\n",
    "dropout_rate = 0.0\n",
    "num_epochs = 50\n",
    "learning_rate = 1e-5\n",
    "\n",
    "fusion_model = FusionModel(\n",
    "    conformer=conformer,\n",
    "    feedforward=feedforward,\n",
    "    resnet=resnet,\n",
    "    vit=vit,\n",
    "    conformer_embed_dim=256,\n",
    "    feedforward_embed_dim=128,\n",
    "    resnet_embed_dim=2048,\n",
    "    vit_embed_dim=768,\n",
    "    fusion_hidden_dim=fusion_hidden_dim,\n",
    "    output_dim=2,\n",
    "    dropout_rate=dropout_rate\n",
    ").to(device)"
   ]
  },
  {
   "cell_type": "code",
   "execution_count": null,
   "metadata": {},
   "outputs": [],
   "source": [
    "\n",
    "model_dir = \"saved_models\"\n",
    "os.makedirs(model_dir, exist_ok=True)\n",
    "best_model_path = os.path.join(model_dir, \"best_model.pth\")\n",
    "params_file_path = os.path.join(model_dir, \"model_params.txt\")\n",
    "best_model_path = \"./vmrc/vitresmetaconformer.pth\"\n"
   ]
  },
  {
   "cell_type": "markdown",
   "metadata": {},
   "source": [
    "## Evaluation"
   ]
  },
  {
   "cell_type": "code",
   "execution_count": null,
   "metadata": {},
   "outputs": [],
   "source": [
    "def custom_metric(y_true, y_pred_proba, min_tpr=0.8):\n",
    "    \"\"\"\n",
    "    Calculate the partial AUC (pAUC) based on a minimum TPR threshold.\n",
    "    \"\"\"\n",
    "    y_true = np.array(y_true)\n",
    "    y_pred_proba = np.array(y_pred_proba)\n",
    "\n",
    "    max_fpr = 1 - min_tpr\n",
    "    v_gt = abs(y_true - 1)  \n",
    "    v_pred = 1.0 - y_pred_proba  \n",
    "\n",
    "    pauc_scaled = roc_auc_score(v_gt, v_pred, max_fpr=max_fpr)\n",
    "    pauc = 0.5 * max_fpr**2 + (max_fpr - 0.5 * max_fpr**2) / (1.0 - 0.5) * (pauc_scaled - 0.5)\n",
    "\n",
    "    return pauc"
   ]
  },
  {
   "cell_type": "code",
   "execution_count": null,
   "metadata": {},
   "outputs": [
    {
     "name": "stdout",
     "output_type": "stream",
     "text": [
      "Loading best model from: ./vmrc/vitresmetaconformer.pth\n"
     ]
    },
    {
     "name": "stderr",
     "output_type": "stream",
     "text": [
      "C:\\Users\\jonec\\AppData\\Local\\Temp\\ipykernel_16348\\1481363471.py:2: FutureWarning: You are using `torch.load` with `weights_only=False` (the current default value), which uses the default pickle module implicitly. It is possible to construct malicious pickle data which will execute arbitrary code during unpickling (See https://github.com/pytorch/pytorch/blob/main/SECURITY.md#untrusted-models for more details). In a future release, the default value for `weights_only` will be flipped to `True`. This limits the functions that could be executed during unpickling. Arbitrary objects will no longer be allowed to be loaded via this mode unless they are explicitly allowlisted by the user via `torch.serialization.add_safe_globals`. We recommend you start setting `weights_only=True` for any use case where you don't have full control of the loaded file. Please open an issue on GitHub for any issues related to this experimental feature.\n",
      "  checkpoint = torch.load(best_model_path)\n",
      "c:\\Users\\jonec\\miniconda3\\envs\\general_ai\\lib\\site-packages\\torch\\nn\\functional.py:5560: UserWarning: 1Torch was not compiled with flash attention. (Triggered internally at C:\\actions-runner\\_work\\pytorch\\pytorch\\builder\\windows\\pytorch\\aten\\src\\ATen\\native\\transformers\\cuda\\sdp_utils.cpp:555.)\n",
      "  attn_output = scaled_dot_product_attention(q, k, v, attn_mask, dropout_p, is_causal)\n"
     ]
    },
    {
     "name": "stdout",
     "output_type": "stream",
     "text": [
      "Test Loss: 0.1848, Test Accuracy: 0.9474\n",
      "Test Classification Report:\n",
      "              precision    recall  f1-score   support\n",
      "\n",
      "           0       0.93      0.97      0.95        38\n",
      "           1       0.97      0.92      0.95        38\n",
      "\n",
      "    accuracy                           0.95        76\n",
      "   macro avg       0.95      0.95      0.95        76\n",
      "weighted avg       0.95      0.95      0.95        76\n",
      "\n",
      "Partial AUC (pAUC): 0.1850\n"
     ]
    }
   ],
   "source": [
    "print(f\"Loading best model from: {best_model_path}\")\n",
    "checkpoint = torch.load(best_model_path)\n",
    "fusion_model.load_state_dict(checkpoint[\"model_state_dict\"])\n",
    "\n",
    "fusion_model.eval()\n",
    "y_true, y_pred, y_pred_proba = [], [], []\n",
    "\n",
    "test_loss, test_corrects = 0.0, 0\n",
    "with torch.no_grad():\n",
    "    for image_conformer, image_vit, metadata, labels in test_loader:\n",
    "        image_conformer, image_vit, metadata, labels = (\n",
    "            image_conformer.to(device),\n",
    "            image_vit.to(device),\n",
    "            metadata.to(device),\n",
    "            labels.to(device),\n",
    "        )\n",
    "        outputs = fusion_model(image_conformer, image_vit, metadata)\n",
    "        loss = criterion(outputs, labels)\n",
    "        test_loss += loss.item() * image_conformer.size(0)\n",
    "        _, preds = torch.max(outputs, 1)\n",
    "        y_true.extend(labels.cpu().numpy())\n",
    "        y_pred.extend(preds.cpu().numpy())\n",
    "        y_pred_proba.extend(torch.softmax(outputs, dim=1)[:, 1].cpu().numpy())\n",
    "        test_corrects += torch.sum(preds == labels).item()\n",
    "\n",
    "\n",
    "\n",
    "test_loss /= len(test_loader.dataset)\n",
    "test_accuracy = test_corrects / len(test_loader.dataset)\n",
    "print(f\"Test Loss: {test_loss:.4f}, Test Accuracy: {test_accuracy:.4f}\")\n",
    "print(\"Test Classification Report:\")\n",
    "print(classification_report(y_true, y_pred))\n",
    "\n",
    "partial_auc = custom_metric(y_true, y_pred_proba)\n",
    "print(f\"Partial AUC (pAUC): {partial_auc:.4f}\")\n"
   ]
  },
  {
   "cell_type": "markdown",
   "metadata": {},
   "source": [
    "## Plotting"
   ]
  },
  {
   "cell_type": "code",
   "execution_count": null,
   "metadata": {},
   "outputs": [
    {
     "name": "stdout",
     "output_type": "stream",
     "text": [
      "Partial AUC (pAUC): 0.1850\n"
     ]
    },
    {
     "data": {
      "image/png": "[encoded data removed]",
      "text/plain": [
       "<Figure size 800x600 with 1 Axes>"
      ]
     },
     "metadata": {},
     "output_type": "display_data"
    },
    {
     "name": "stdout",
     "output_type": "stream",
     "text": [
      "Corrected ROC Curve with pAUC saved at: ./roc_curve_with_pauc_corrected.png\n"
     ]
    }
   ],
   "source": [
    "from sklearn.metrics import roc_curve, roc_auc_score\n",
    "import numpy as np\n",
    "import matplotlib.pyplot as plt\n",
    "\n",
    "\n",
    "fpr, tpr, _ = roc_curve(y_true, y_pred_proba)\n",
    "\n",
    "\n",
    "partial_auc = custom_metric(y_true, y_pred_proba, min_tpr=0.8)\n",
    "print(f\"Partial AUC (pAUC): {partial_auc:.4f}\")\n",
    "\n",
    "\n",
    "tpr_threshold = 0.8\n",
    "\n",
    "\n",
    "valid_indices = tpr >= tpr_threshold\n",
    "\n",
    "\n",
    "fpr_interp = np.interp(tpr_threshold, tpr, fpr)\n",
    "\n",
    "\n",
    "fpr_bounded = np.concatenate(([fpr_interp], fpr[valid_indices]))\n",
    "tpr_bounded = np.concatenate(([tpr_threshold], tpr[valid_indices]))\n",
    "\n",
    "\n",
    "plt.figure(figsize=(8, 6))\n",
    "plt.plot(fpr, tpr, label=f\"ROC Curve (AUC = {roc_auc_score(y_true, y_pred_proba):.4f})\", linewidth=2)\n",
    "\n",
    "\n",
    "plt.fill_between(\n",
    "    fpr_bounded, \n",
    "    tpr_bounded, \n",
    "    tpr_threshold, \n",
    "    color=\"green\", \n",
    "    alpha=0.2, \n",
    "    label=f\"pAUC (TPR ≥ {tpr_threshold}) = {partial_auc:.4f}\"\n",
    ")\n",
    "\n",
    "\n",
    "plt.xlabel(\"False Positive Rate\")\n",
    "plt.ylabel(\"True Positive Rate\")\n",
    "plt.title(\"ROC Curve with pAUC Highlighted (Bounded by TPR ≥ 0.8)\")\n",
    "plt.legend(loc=\"lower right\")\n",
    "plt.grid(True)\n",
    "\n",
    "\n",
    "roc_curve_path = \"./roc_curve_with_pauc_corrected.png\"\n",
    "plt.savefig(roc_curve_path, bbox_inches=\"tight\")\n",
    "plt.show()\n",
    "\n",
    "print(f\"Corrected ROC Curve with pAUC saved at: {roc_curve_path}\")"
   ]
  },
  {
   "cell_type": "code",
   "execution_count": null,
   "metadata": {},
   "outputs": [],
   "source": []
  }
 ],
 "metadata": {
  "kernelspec": {
   "display_name": "general_ai",
   "language": "python",
   "name": "python3"
  },
  "language_info": {
   "codemirror_mode": {
    "name": "ipython",
    "version": 3
   },
   "file_extension": ".py",
   "mimetype": "text/x-python",
   "name": "python",
   "nbconvert_exporter": "python",
   "pygments_lexer": "ipython3",
   "version": "3.9.19"
  }
 },
 "nbformat": 4,
 "nbformat_minor": 2
}
