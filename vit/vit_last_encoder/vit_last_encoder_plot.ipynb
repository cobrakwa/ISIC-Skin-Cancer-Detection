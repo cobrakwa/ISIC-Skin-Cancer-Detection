{
 "cells": [
  {
   "cell_type": "markdown",
   "metadata": {},
   "source": [
    "## Imports"
   ]
  },
  {
   "cell_type": "code",
   "execution_count": 1,
   "metadata": {},
   "outputs": [],
   "source": [
    "import torch\n",
    "import torch.nn as nn\n",
    "import torch.optim as optim\n",
    "from torch.utils.data import DataLoader, Subset, ConcatDataset\n",
    "from sklearn.model_selection import train_test_split\n",
    "import torchvision.transforms as transforms\n",
    "import torchvision.datasets as datasets\n",
    "from torchvision.models import vit_b_16\n",
    "import matplotlib.pyplot as plt\n",
    "from sklearn.metrics import classification_report, roc_curve, auc\n",
    "import numpy as np\n",
    "import os\n",
    "import re"
   ]
  },
  {
   "cell_type": "code",
   "execution_count": null,
   "metadata": {},
   "outputs": [],
   "source": [
    "\n",
    "if not os.path.exists(\"saved_models\"):\n",
    "    os.makedirs(\"saved_models\")"
   ]
  },
  {
   "cell_type": "markdown",
   "metadata": {},
   "source": [
    "## Function Definition"
   ]
  },
  {
   "cell_type": "code",
   "execution_count": null,
   "metadata": {},
   "outputs": [],
   "source": [
    "from sklearn.metrics import roc_auc_score\n",
    "\n",
    "def custom_metric(y_true, y_pred, min_tpr=0.8):\n",
    "    \"\"\"\n",
    "    Calculate the partial AUC (pAUC) based on a minimum TPR threshold.\n",
    "\n",
    "    Args:\n",
    "    y_true (array): True binary labels.\n",
    "    y_pred (array): Predicted probabilities.\n",
    "    min_tpr (float): Minimum TPR threshold (default: 0.8).\n",
    "\n",
    "    Returns:\n",
    "    float: Scaled pAUC value.\n",
    "    \"\"\"\n",
    "    max_fpr = 1 - min_tpr  \n",
    "    v_gt = abs(y_true - 1)  \n",
    "    v_pred = np.array([1.0 - x for x in y_pred])  \n",
    "\n",
    "    \n",
    "    pauc_scaled = roc_auc_score(v_gt, v_pred, max_fpr=max_fpr)\n",
    "    pauc = 0.5 * max_fpr**2 + (max_fpr - 0.5 * max_fpr**2) / (1.0 - 0.5) * (pauc_scaled - 0.5)\n",
    "\n",
    "    return pauc"
   ]
  },
  {
   "cell_type": "markdown",
   "metadata": {},
   "source": [
    "## Model Definition"
   ]
  },
  {
   "cell_type": "code",
   "execution_count": null,
   "metadata": {},
   "outputs": [],
   "source": [
    "def load_pretrained_vit(num_classes):\n",
    "    \"\"\"\n",
    "    Load the Vision Transformer (ViT) model, downloading pretrained weights if necessary,\n",
    "    and freeze all layers except the last transformer encoder and classification layer.\n",
    "    \"\"\"\n",
    "    model_path = \"saved_models/vit_b_16.pth\"\n",
    "    \n",
    "    if os.path.exists(model_path):\n",
    "        print(f\"Loading pretrained ViT model from {model_path}.\")\n",
    "        model = vit_b_16()\n",
    "        model.load_state_dict(torch.load(model_path))\n",
    "    else:\n",
    "        print(f\"Downloading and saving ViT pretrained weights to {model_path}.\")\n",
    "        model = vit_b_16(pretrained=True)\n",
    "        torch.save(model.state_dict(), model_path)\n",
    "\n",
    "    \n",
    "    for param in model.parameters():\n",
    "        param.requires_grad = False\n",
    "\n",
    "    \n",
    "    for param in model.encoder.layers[-1].parameters():\n",
    "        param.requires_grad = True\n",
    "\n",
    "    \n",
    "    in_features = model.heads.head.in_features\n",
    "    model.heads.head = nn.Linear(in_features, num_classes)\n",
    "    for param in model.heads.head.parameters():\n",
    "        param.requires_grad = True\n",
    "\n",
    "    return model\n"
   ]
  },
  {
   "cell_type": "markdown",
   "metadata": {},
   "source": [
    "## Hyperparams"
   ]
  },
  {
   "cell_type": "code",
   "execution_count": null,
   "metadata": {},
   "outputs": [],
   "source": [
    "\n",
    "batch_size = 32\n",
    "learning_rate = 0.000005\n",
    "num_epochs = 50\n",
    "num_classes = 2\n",
    "dropout_rate = 0.4\n"
   ]
  },
  {
   "cell_type": "markdown",
   "metadata": {},
   "source": [
    "## Dataset Processing"
   ]
  },
  {
   "cell_type": "code",
   "execution_count": null,
   "metadata": {},
   "outputs": [],
   "source": [
    "transform = transforms.Compose([\n",
    "    transforms.Resize((224, 224)),  \n",
    "    transforms.ToTensor(),\n",
    "    transforms.Normalize(mean=[0.5, 0.5, 0.5], std=[0.5, 0.5, 0.5]),\n",
    "])\n",
    "\n",
    "augment_transform = transforms.Compose([\n",
    "    transforms.RandomHorizontalFlip(),\n",
    "    transforms.RandomRotation(15),\n",
    "    transforms.RandomResizedCrop((224, 224), scale=(0.8, 1.0)),\n",
    "    transforms.ToTensor(),\n",
    "    transforms.Normalize(mean=[0.5, 0.5, 0.5], std=[0.5, 0.5, 0.5]),\n",
    "])\n",
    "\n",
    "dataset = datasets.ImageFolder(root='../../data/balanced_data', transform=transform)\n",
    "num_classes = len(dataset.classes)\n",
    "\n",
    "\n",
    "train_indices, temp_indices, train_labels, temp_labels = train_test_split(\n",
    "    np.arange(len(dataset)),\n",
    "    [label for _, label in dataset.samples],\n",
    "    test_size=0.2,\n",
    "    stratify=[label for _, label in dataset.samples],\n",
    "    random_state=42\n",
    ")\n",
    "\n",
    "val_indices, test_indices, _, _ = train_test_split(\n",
    "    temp_indices,\n",
    "    temp_labels,\n",
    "    test_size=0.5,\n",
    "    stratify=temp_labels,\n",
    "    random_state=42\n",
    ")\n",
    "\n",
    "\n",
    "train_dataset = Subset(dataset, train_indices)\n",
    "train_augmented_dataset = datasets.ImageFolder(root='../../data/balanced_data', transform=augment_transform)\n",
    "train_augmented_indices = np.random.choice(train_indices, size=len(train_indices), replace=False)\n",
    "train_augmented_dataset = Subset(train_augmented_dataset, train_augmented_indices)\n",
    "train_combined_dataset = ConcatDataset([train_dataset, train_augmented_dataset])\n",
    "\n",
    "val_dataset = Subset(dataset, val_indices)\n",
    "val_augmented_dataset = datasets.ImageFolder(root='../../data/balanced_data', transform=augment_transform)\n",
    "val_augmented_indices = np.random.choice(val_indices, size=len(val_indices), replace=False)\n",
    "val_augmented_dataset = Subset(val_augmented_dataset, val_augmented_indices)\n",
    "val_combined_dataset = ConcatDataset([val_dataset, val_augmented_dataset])\n",
    "\n",
    "test_dataset = Subset(dataset, test_indices)\n",
    "\n",
    "train_loader = DataLoader(train_combined_dataset, batch_size=32, shuffle=True)\n",
    "val_loader = DataLoader(val_combined_dataset, batch_size=32, shuffle=False)\n",
    "test_loader = DataLoader(test_dataset, batch_size=32, shuffle=False)"
   ]
  },
  {
   "cell_type": "markdown",
   "metadata": {},
   "source": [
    "## Init Model"
   ]
  },
  {
   "cell_type": "code",
   "execution_count": 7,
   "metadata": {},
   "outputs": [
    {
     "name": "stdout",
     "output_type": "stream",
     "text": [
      "Loading pretrained ViT model from saved_models/vit_b_16.pth.\n"
     ]
    },
    {
     "name": "stderr",
     "output_type": "stream",
     "text": [
      "C:\\Users\\jonec\\AppData\\Local\\Temp\\ipykernel_59560\\979053885.py:11: FutureWarning: You are using `torch.load` with `weights_only=False` (the current default value), which uses the default pickle module implicitly. It is possible to construct malicious pickle data which will execute arbitrary code during unpickling (See https://github.com/pytorch/pytorch/blob/main/SECURITY.md#untrusted-models for more details). In a future release, the default value for `weights_only` will be flipped to `True`. This limits the functions that could be executed during unpickling. Arbitrary objects will no longer be allowed to be loaded via this mode unless they are explicitly allowlisted by the user via `torch.serialization.add_safe_globals`. We recommend you start setting `weights_only=True` for any use case where you don't have full control of the loaded file. Please open an issue on GitHub for any issues related to this experimental feature.\n",
      "  model.load_state_dict(torch.load(model_path))\n"
     ]
    }
   ],
   "source": [
    "device = torch.device('cuda' if torch.cuda.is_available() else 'cpu')\n",
    "model = load_pretrained_vit(num_classes=num_classes).to(device)\n",
    "\n",
    "criterion = nn.CrossEntropyLoss()\n",
    "optimizer = optim.Adam(model.parameters(), lr=learning_rate)"
   ]
  },
  {
   "cell_type": "markdown",
   "metadata": {},
   "source": [
    "## Eval"
   ]
  },
  {
   "cell_type": "code",
   "execution_count": null,
   "metadata": {},
   "outputs": [
    {
     "name": "stdout",
     "output_type": "stream",
     "text": [
      "Loading the best model: saved_models/best_model.pth\n"
     ]
    },
    {
     "name": "stderr",
     "output_type": "stream",
     "text": [
      "C:\\Users\\jonec\\AppData\\Local\\Temp\\ipykernel_59560\\3418479573.py:7: FutureWarning: You are using `torch.load` with `weights_only=False` (the current default value), which uses the default pickle module implicitly. It is possible to construct malicious pickle data which will execute arbitrary code during unpickling (See https://github.com/pytorch/pytorch/blob/main/SECURITY.md#untrusted-models for more details). In a future release, the default value for `weights_only` will be flipped to `True`. This limits the functions that could be executed during unpickling. Arbitrary objects will no longer be allowed to be loaded via this mode unless they are explicitly allowlisted by the user via `torch.serialization.add_safe_globals`. We recommend you start setting `weights_only=True` for any use case where you don't have full control of the loaded file. Please open an issue on GitHub for any issues related to this experimental feature.\n",
      "  model.load_state_dict(torch.load(best_model_path))\n",
      "c:\\Users\\jonec\\miniconda3\\envs\\general_ai\\lib\\site-packages\\torch\\nn\\modules\\activation.py:1230: UserWarning: 1Torch was not compiled with flash attention. (Triggered internally at C:\\actions-runner\\_work\\pytorch\\pytorch\\builder\\windows\\pytorch\\aten\\src\\ATen\\native\\transformers\\cuda\\sdp_utils.cpp:555.)\n",
      "  return torch._native_multi_head_attention(\n"
     ]
    },
    {
     "name": "stdout",
     "output_type": "stream",
     "text": [
      "Test Loss: 0.4553, Test Accuracy: 0.8354\n",
      "Partial AUC (pAUC) above TPR=0.8 (normalized to [0, 0.2]): 0.1053\n"
     ]
    }
   ],
   "source": [
    "\n",
    "best_model_path = \"saved_models/best_model.pth\"\n",
    "if not os.path.exists(best_model_path):\n",
    "    raise FileNotFoundError(f\"No model file found at {best_model_path}.\")\n",
    "\n",
    "print(f\"Loading the best model: {best_model_path}\")\n",
    "model.load_state_dict(torch.load(best_model_path))\n",
    "model.eval()\n",
    "\n",
    "\n",
    "running_test_loss = 0.0\n",
    "correct_test = 0\n",
    "total_test = 0\n",
    "all_labels = []\n",
    "all_probs = []\n",
    "\n",
    "with torch.no_grad():\n",
    "    for images, labels in test_loader:\n",
    "        images, labels = images.to(device), labels.to(device)\n",
    "        outputs = model(images)\n",
    "        loss = criterion(outputs, labels)\n",
    "        running_test_loss += loss.item()\n",
    "\n",
    "        probs = torch.softmax(outputs, dim=1)[:, 1]  \n",
    "\n",
    "        all_labels.extend(labels.cpu().numpy())\n",
    "        all_probs.extend(probs.cpu().numpy())\n",
    "\n",
    "        correct_test += torch.sum(torch.argmax(outputs, dim=1) == labels).item()\n",
    "        total_test += labels.size(0)\n",
    "\n",
    "\n",
    "avg_test_loss = running_test_loss / len(test_loader)\n",
    "test_accuracy = correct_test / total_test\n",
    "print(f\"Test Loss: {avg_test_loss:.4f}, Test Accuracy: {test_accuracy:.4f}\")\n",
    "\n",
    "\n",
    "pAUC = custom_metric(np.array(all_labels), np.array(all_probs), min_tpr=0.8)\n",
    "print(f\"Partial AUC (pAUC) above TPR=0.8 (normalized to [0, 0.2]): {pAUC:.4f}\")\n"
   ]
  },
  {
   "cell_type": "markdown",
   "metadata": {},
   "source": [
    "## Plotting"
   ]
  },
  {
   "cell_type": "code",
   "execution_count": null,
   "metadata": {},
   "outputs": [
    {
     "data": {
      "image/png": "[encoded data removed]",
      "text/plain": [
       "<Figure size 800x600 with 1 Axes>"
      ]
     },
     "metadata": {},
     "output_type": "display_data"
    },
    {
     "name": "stdout",
     "output_type": "stream",
     "text": [
      "ROC Curve plot saved to saved_models\\roc_curve_with_pauc.png\n"
     ]
    }
   ],
   "source": [
    "\n",
    "fpr, tpr, _ = roc_curve(all_labels, all_probs)\n",
    "\n",
    "\n",
    "plt.figure(figsize=(8, 6))\n",
    "plt.plot(fpr, tpr, label=f\"ROC Curve (AUC = {roc_auc_score(all_labels, all_probs):.4f})\", linewidth=2)\n",
    "\n",
    "\n",
    "tpr_threshold = 0.8\n",
    "\n",
    "\n",
    "fpr_interp = np.interp(tpr_threshold, tpr, fpr)\n",
    "\n",
    "\n",
    "fpr_bounded = np.concatenate(([fpr_interp], fpr[tpr >= tpr_threshold]))\n",
    "tpr_bounded = np.concatenate(([tpr_threshold], tpr[tpr >= tpr_threshold]))\n",
    "\n",
    "\n",
    "plt.fill_between(\n",
    "    fpr_bounded, \n",
    "    tpr_bounded, \n",
    "    tpr_threshold, \n",
    "    color=\"green\", \n",
    "    alpha=0.3, \n",
    "    label=f\"pAUC (TPR ≥ {tpr_threshold}) = {pAUC:.4f}\"\n",
    ")\n",
    "\n",
    "plt.xlabel(\"False Positive Rate\")\n",
    "plt.ylabel(\"True Positive Rate\")\n",
    "plt.title(\"ROC Curve with pAUC Highlighted (Bounded by TPR ≥ 0.8)\")\n",
    "plt.legend(loc=\"lower right\")\n",
    "plt.grid(True)\n",
    "\n",
    "\n",
    "roc_plot_path = os.path.join(\"saved_models\", \"roc_curve_with_pauc.png\")\n",
    "plt.savefig(roc_plot_path, bbox_inches=\"tight\")\n",
    "plt.show()\n",
    "print(f\"ROC Curve plot saved to {roc_plot_path}\")"
   ]
  }
 ],
 "metadata": {
  "kernelspec": {
   "display_name": "general_ai",
   "language": "python",
   "name": "python3"
  },
  "language_info": {
   "codemirror_mode": {
    "name": "ipython",
    "version": 3
   },
   "file_extension": ".py",
   "mimetype": "text/x-python",
   "name": "python",
   "nbconvert_exporter": "python",
   "pygments_lexer": "ipython3",
   "version": "3.9.19"
  }
 },
 "nbformat": 4,
 "nbformat_minor": 2
}
