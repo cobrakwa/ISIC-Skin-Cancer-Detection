{
 "cells": [
  {
   "cell_type": "markdown",
   "metadata": {},
   "source": [
    "## Imports"
   ]
  },
  {
   "cell_type": "code",
   "execution_count": 1,
   "metadata": {},
   "outputs": [],
   "source": [
    "import os\n",
    "import h5py\n",
    "import pandas as pd\n",
    "import torch\n",
    "import torch.nn as nn\n",
    "from torchvision import transforms\n",
    "from tqdm import tqdm\n",
    "from PIL import Image\n",
    "import io\n",
    "import numpy as np"
   ]
  },
  {
   "cell_type": "markdown",
   "metadata": {},
   "source": [
    "# Set random seed for reproducibility"
   ]
  },
  {
   "cell_type": "code",
   "execution_count": null,
   "metadata": {},
   "outputs": [
    {
     "name": "stdout",
     "output_type": "stream",
     "text": [
      "Device: cuda\n"
     ]
    }
   ],
   "source": [
    "SEED = 42\n",
    "torch.manual_seed(SEED)\n",
    "\n",
    "\n",
    "device = torch.device(\"cuda\" if torch.cuda.is_available() else \"cpu\")\n",
    "print(f\"Device: {device}\")"
   ]
  },
  {
   "cell_type": "markdown",
   "metadata": {},
   "source": [
    "## Model Definition"
   ]
  },
  {
   "cell_type": "code",
   "execution_count": null,
   "metadata": {},
   "outputs": [],
   "source": [
    "\n",
    "class ConformerTinyBinary(nn.Module):\n",
    "    def __init__(self, img_size=128, num_classes=2, embed_dim=32, num_heads=4, num_transformer_layers=1):\n",
    "        super(ConformerTinyBinary, self).__init__()\n",
    "        self.conv = nn.Sequential(\n",
    "            nn.Conv2d(3, embed_dim, kernel_size=3, stride=2, padding=1),\n",
    "            nn.BatchNorm2d(embed_dim),\n",
    "            nn.ReLU(),\n",
    "            nn.Conv2d(embed_dim, embed_dim, kernel_size=3, stride=2, padding=1),\n",
    "            nn.BatchNorm2d(embed_dim),\n",
    "            nn.ReLU(),\n",
    "            nn.Conv2d(embed_dim, embed_dim, kernel_size=3, stride=2, padding=1),\n",
    "            nn.BatchNorm2d(embed_dim),\n",
    "            nn.ReLU()\n",
    "        )\n",
    "        self.transformer = nn.TransformerEncoder(\n",
    "            nn.TransformerEncoderLayer(d_model=embed_dim, nhead=num_heads),\n",
    "            num_layers=num_transformer_layers\n",
    "        )\n",
    "        self.fc = nn.Linear(embed_dim, num_classes)\n",
    "\n",
    "    def forward(self, x):\n",
    "        x = self.conv(x)\n",
    "        b, c, h, w = x.shape\n",
    "        x = x.view(b, c, -1).permute(2, 0, 1)  \n",
    "        x = self.transformer(x)\n",
    "        x = x.mean(dim=0)  \n",
    "        x = self.fc(x)\n",
    "        return x\n"
   ]
  },
  {
   "cell_type": "markdown",
   "metadata": {},
   "source": [
    "## Load Model"
   ]
  },
  {
   "cell_type": "code",
   "execution_count": null,
   "metadata": {},
   "outputs": [
    {
     "name": "stdout",
     "output_type": "stream",
     "text": [
      "Loading model from: ./scratch/saved_models_2/epoch17.pth\n",
      "Model loaded successfully.\n"
     ]
    },
    {
     "name": "stderr",
     "output_type": "stream",
     "text": [
      "c:\\Users\\jonec\\miniconda3\\envs\\general_ai\\lib\\site-packages\\torch\\nn\\modules\\transformer.py:307: UserWarning: enable_nested_tensor is True, but self.use_nested_tensor is False because encoder_layer.self_attn.batch_first was not True(use batch_first for better inference performance)\n",
      "  warnings.warn(f\"enable_nested_tensor is True, but self.use_nested_tensor is False because {why_not_sparsity_fast_path}\")\n",
      "C:\\Users\\jonec\\AppData\\Local\\Temp\\ipykernel_31860\\4275577180.py:11: FutureWarning: You are using `torch.load` with `weights_only=False` (the current default value), which uses the default pickle module implicitly. It is possible to construct malicious pickle data which will execute arbitrary code during unpickling (See https://github.com/pytorch/pytorch/blob/main/SECURITY.md#untrusted-models for more details). In a future release, the default value for `weights_only` will be flipped to `True`. This limits the functions that could be executed during unpickling. Arbitrary objects will no longer be allowed to be loaded via this mode unless they are explicitly allowlisted by the user via `torch.serialization.add_safe_globals`. We recommend you start setting `weights_only=True` for any use case where you don't have full control of the loaded file. Please open an issue on GitHub for any issues related to this experimental feature.\n",
      "  checkpoint = torch.load(model_path, map_location=device)\n"
     ]
    }
   ],
   "source": [
    "\n",
    "model_path = \"./scratch/saved_models_2/epoch17.pth\"\n",
    "print(f\"Loading model from: {model_path}\")\n",
    "model = ConformerTinyBinary(\n",
    "    img_size=128,         \n",
    "    num_classes=2,        \n",
    "    embed_dim=128,        \n",
    "    num_heads=4,          \n",
    "    num_transformer_layers=4  \n",
    ").to(device)\n",
    "checkpoint = torch.load(model_path, map_location=device)\n",
    "model.load_state_dict(checkpoint['model_state_dict'])\n",
    "model.eval()\n",
    "print(\"Model loaded successfully.\")\n"
   ]
  },
  {
   "cell_type": "markdown",
   "metadata": {},
   "source": [
    "## Load Test Data"
   ]
  },
  {
   "cell_type": "code",
   "execution_count": null,
   "metadata": {},
   "outputs": [
    {
     "name": "stdout",
     "output_type": "stream",
     "text": [
      "Test metadata loaded. 3 samples found.\n",
      "Loading test images from: ../data/test-image.hdf5\n",
      "3 test images loaded.\n"
     ]
    }
   ],
   "source": [
    "\n",
    "test_metadata_path = \"../data/test-metadata.csv\"\n",
    "test_metadata = pd.read_csv(test_metadata_path)\n",
    "print(f\"Test metadata loaded. {len(test_metadata)} samples found.\")\n",
    "\n",
    "\n",
    "test_image_path = \"../data/test-image.hdf5\"\n",
    "print(f\"Loading test images from: {test_image_path}\")\n",
    "\n",
    "\n",
    "def decode_image(byte_string):\n",
    "    \n",
    "    byte_stream = io.BytesIO(byte_string)\n",
    "    \n",
    "    image = Image.open(byte_stream).convert(\"RGB\")  \n",
    "    return np.array(image)  \n",
    "\n",
    "\n",
    "with h5py.File(test_image_path, \"r\") as hdf5_file:\n",
    "    test_images = {}\n",
    "    for key in hdf5_file.keys():\n",
    "        byte_string = hdf5_file[key][()]  \n",
    "        if len(byte_string) > 0:\n",
    "            try:\n",
    "                test_images[key] = decode_image(byte_string)\n",
    "            except Exception as e:\n",
    "                print(f\"Error decoding image {key}: {e}\")\n",
    "        else:\n",
    "            print(f\"Skipping empty data for key: {key}\")\n",
    "\n",
    "print(f\"{len(test_images)} test images loaded.\")"
   ]
  },
  {
   "cell_type": "markdown",
   "metadata": {},
   "source": [
    "## Image Processing"
   ]
  },
  {
   "cell_type": "code",
   "execution_count": null,
   "metadata": {},
   "outputs": [],
   "source": [
    "\n",
    "transform = transforms.Compose([\n",
    "    transforms.ToPILImage(),\n",
    "    transforms.Resize((128, 128)),\n",
    "    transforms.ToTensor(),\n",
    "    transforms.Normalize(mean=[0.5], std=[0.5])\n",
    "])\n"
   ]
  },
  {
   "cell_type": "markdown",
   "metadata": {},
   "source": [
    "## Inference"
   ]
  },
  {
   "cell_type": "code",
   "execution_count": null,
   "metadata": {},
   "outputs": [
    {
     "name": "stdout",
     "output_type": "stream",
     "text": [
      "Starting inference...\n"
     ]
    },
    {
     "name": "stderr",
     "output_type": "stream",
     "text": [
      "  0%|          | 0/3 [00:00<?, ?it/s]c:\\Users\\jonec\\miniconda3\\envs\\general_ai\\lib\\site-packages\\torch\\nn\\functional.py:5560: UserWarning: 1Torch was not compiled with flash attention. (Triggered internally at C:\\actions-runner\\_work\\pytorch\\pytorch\\builder\\windows\\pytorch\\aten\\src\\ATen\\native\\transformers\\cuda\\sdp_utils.cpp:555.)\n",
      "  attn_output = scaled_dot_product_attention(q, k, v, attn_mask, dropout_p, is_causal)\n",
      "100%|██████████| 3/3 [00:01<00:00,  2.86it/s]"
     ]
    },
    {
     "name": "stdout",
     "output_type": "stream",
     "text": [
      "Submission file saved: submission.csv\n",
      "        isic_id    target\n",
      "0  ISIC_0015657  0.009598\n",
      "1  ISIC_0015729  0.134887\n",
      "2  ISIC_0015740  0.018930\n"
     ]
    },
    {
     "name": "stderr",
     "output_type": "stream",
     "text": [
      "\n"
     ]
    }
   ],
   "source": [
    "\n",
    "results = []\n",
    "print(\"Starting inference...\")\n",
    "for isic_id, image in tqdm(test_images.items()):\n",
    "    \n",
    "    \n",
    "    input_image = transform(image).unsqueeze(0).to(device)  \n",
    "\n",
    "    \n",
    "    with torch.no_grad():\n",
    "        outputs = model(input_image)\n",
    "        probabilities = torch.softmax(outputs, dim=1)[:, 1].item()  \n",
    "    \n",
    "    \n",
    "    results.append({\"isic_id\": isic_id, \"target\": probabilities})\n",
    "\n",
    "\n",
    "submission = pd.DataFrame(results)\n",
    "\n",
    "\n",
    "submission = submission[[\"isic_id\", \"target\"]]\n",
    "\n",
    "\n",
    "submission_file = \"submission.csv\"\n",
    "submission.to_csv(submission_file, index=False)\n",
    "print(f\"Submission file saved: {submission_file}\")\n",
    "\n",
    "\n",
    "print(submission.head())"
   ]
  },
  {
   "cell_type": "markdown",
   "metadata": {},
   "source": []
  }
 ],
 "metadata": {
  "kernelspec": {
   "display_name": "general_ai",
   "language": "python",
   "name": "python3"
  },
  "language_info": {
   "codemirror_mode": {
    "name": "ipython",
    "version": 3
   },
   "file_extension": ".py",
   "mimetype": "text/x-python",
   "name": "python",
   "nbconvert_exporter": "python",
   "pygments_lexer": "ipython3",
   "version": "3.9.19"
  }
 },
 "nbformat": 4,
 "nbformat_minor": 2
}
