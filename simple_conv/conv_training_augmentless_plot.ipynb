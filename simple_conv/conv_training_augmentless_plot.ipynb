{
 "cells": [
  {
   "cell_type": "markdown",
   "metadata": {},
   "source": [
    "## Imports"
   ]
  },
  {
   "cell_type": "code",
   "execution_count": 25,
   "metadata": {},
   "outputs": [],
   "source": [
    "import torch\n",
    "import torch.nn as nn\n",
    "import torch.optim as optim\n",
    "from torch.utils.data import DataLoader, Subset, ConcatDataset\n",
    "from sklearn.model_selection import train_test_split\n",
    "import torchvision.transforms as transforms\n",
    "import torchvision.datasets as datasets\n",
    "import matplotlib.pyplot as plt\n",
    "from sklearn.metrics import classification_report, roc_curve, auc\n",
    "import numpy as np\n",
    "import os\n",
    "import re"
   ]
  },
  {
   "cell_type": "code",
   "execution_count": null,
   "metadata": {},
   "outputs": [],
   "source": [
    "\n",
    "if not os.path.exists(\"saved_models\"):\n",
    "    os.makedirs(\"saved_models\")"
   ]
  },
  {
   "cell_type": "markdown",
   "metadata": {},
   "source": [
    "## Function Definition"
   ]
  },
  {
   "cell_type": "code",
   "execution_count": null,
   "metadata": {},
   "outputs": [],
   "source": [
    "from sklearn.metrics import roc_curve, roc_auc_score, roc_curve\n",
    "def custom_metric(y_true, y_pred, min_tpr=0.8):\n",
    "    \"\"\"\n",
    "    Calculate the partial AUC (pAUC) based on a minimum TPR threshold.\n",
    "\n",
    "    Args:\n",
    "    y_true (array): True binary labels.\n",
    "    y_pred (array): Predicted probabilities.\n",
    "    min_tpr (float): Minimum TPR threshold (default: 0.8).\n",
    "\n",
    "    Returns:\n",
    "    float: Scaled pAUC value.\n",
    "    \"\"\"\n",
    "    max_fpr = 1 - min_tpr  \n",
    "    v_gt = abs(y_true - 1)  \n",
    "    v_pred = np.array([1.0 - x for x in y_pred])  \n",
    "\n",
    "    \n",
    "    pauc_scaled = roc_auc_score(v_gt, v_pred, max_fpr=max_fpr)\n",
    "    \n",
    "    pauc = 0.5 * max_fpr**2 + (max_fpr - 0.5 * max_fpr**2) / (1.0 - 0.5) * (pauc_scaled - 0.5)\n",
    "\n",
    "    return pauc\n"
   ]
  },
  {
   "cell_type": "markdown",
   "metadata": {},
   "source": [
    "## Model Definition"
   ]
  },
  {
   "cell_type": "code",
   "execution_count": null,
   "metadata": {},
   "outputs": [],
   "source": [
    "class SimpleCNN(nn.Module):\n",
    "    def __init__(self, num_classes, dropout_rate):\n",
    "        super(SimpleCNN, self).__init__()\n",
    "        self.conv1 = nn.Conv2d(3, 32, kernel_size=3, stride=1, padding=1)\n",
    "        self.bn1 = nn.BatchNorm2d(32)\n",
    "        self.relu = nn.ReLU()\n",
    "        self.pool = nn.MaxPool2d(2, 2)\n",
    "        self.dropout1 = nn.Dropout(0.3)\n",
    "\n",
    "        self.conv2 = nn.Conv2d(32, 64, kernel_size=3, stride=1, padding=1)\n",
    "        self.bn2 = nn.BatchNorm2d(64)\n",
    "        self.pool2 = nn.MaxPool2d(2, 2)\n",
    "        self.dropout2 = nn.Dropout(0.4)\n",
    "\n",
    "        self.fc1 = nn.Linear(65536, 256)\n",
    "        self.fc2 = nn.Linear(256, 128)\n",
    "        self.fc3 = nn.Linear(128, num_classes)\n",
    "\n",
    "    def forward(self, x):\n",
    "        x = self.relu(self.bn1(self.conv1(x)))\n",
    "        x = self.pool(self.relu(self.bn2(self.conv2(x))))\n",
    "        x = self.dropout1(x)\n",
    "\n",
    "        x = self.pool2(x)\n",
    "        x = self.dropout2(x)\n",
    "\n",
    "        x = x.view(x.size(0), -1)  \n",
    "        x = self.relu(self.fc1(x))\n",
    "        x = self.relu(self.fc2(x))\n",
    "        x = self.fc3(x)\n",
    "        return x\n"
   ]
  },
  {
   "cell_type": "markdown",
   "metadata": {},
   "source": [
    "## Hyperparams"
   ]
  },
  {
   "cell_type": "code",
   "execution_count": null,
   "metadata": {},
   "outputs": [],
   "source": [
    "\n",
    "batch_size = 32\n",
    "learning_rate = 0.0001\n",
    "num_epochs = 30\n",
    "num_classes = 2 \n",
    "dropout_rate = 0.0"
   ]
  },
  {
   "cell_type": "markdown",
   "metadata": {},
   "source": [
    "## Dataset Processing"
   ]
  },
  {
   "cell_type": "code",
   "execution_count": null,
   "metadata": {},
   "outputs": [],
   "source": [
    "transform = transforms.Compose([\n",
    "    transforms.Resize((128, 128)),\n",
    "    transforms.ToTensor(),\n",
    "    transforms.Normalize(mean=[0.5, 0.5, 0.5], std=[0.5, 0.5, 0.5]),\n",
    "])\n",
    "\n",
    "augment_transform = transforms.Compose([\n",
    "    transforms.RandomHorizontalFlip(),\n",
    "    transforms.RandomRotation(15),\n",
    "    transforms.RandomResizedCrop((128, 128), scale=(0.8, 1.0)),\n",
    "    transforms.ToTensor(),\n",
    "    transforms.Normalize(mean=[0.5, 0.5, 0.5], std=[0.5, 0.5, 0.5]),\n",
    "])\n",
    "\n",
    "dataset = datasets.ImageFolder(root='../data/balanced_data', transform=transform)\n",
    "num_classes = len(dataset.classes)\n",
    "\n",
    "\n",
    "train_indices, temp_indices, train_labels, temp_labels = train_test_split(\n",
    "    np.arange(len(dataset)),\n",
    "    [label for _, label in dataset.samples],\n",
    "    test_size=0.2,\n",
    "    stratify=[label for _, label in dataset.samples],\n",
    "    random_state=42\n",
    ")\n",
    "\n",
    "val_indices, test_indices, _, _ = train_test_split(\n",
    "    temp_indices,\n",
    "    temp_labels,\n",
    "    test_size=0.5,\n",
    "    stratify=temp_labels,\n",
    "    random_state=42\n",
    ")\n",
    "\n",
    "\n",
    "train_dataset = Subset(dataset, train_indices)\n",
    "train_augmented_dataset = datasets.ImageFolder(root='../data/balanced_data', transform=augment_transform)\n",
    "train_augmented_indices = np.random.choice(train_indices, size=len(train_indices), replace=False)\n",
    "train_augmented_dataset = Subset(train_augmented_dataset, train_augmented_indices)\n",
    "train_combined_dataset = ConcatDataset([train_dataset, train_augmented_dataset])\n",
    "\n",
    "val_dataset = Subset(dataset, val_indices)\n",
    "val_augmented_dataset = datasets.ImageFolder(root='../data/balanced_data', transform=augment_transform)\n",
    "val_augmented_indices = np.random.choice(val_indices, size=len(val_indices), replace=False)\n",
    "val_augmented_dataset = Subset(val_augmented_dataset, val_augmented_indices)\n",
    "val_combined_dataset = ConcatDataset([val_dataset, val_augmented_dataset])\n",
    "\n",
    "test_dataset = Subset(dataset, test_indices)\n",
    "\n",
    "train_loader = DataLoader(train_combined_dataset, batch_size=32, shuffle=True)\n",
    "val_loader = DataLoader(val_combined_dataset, batch_size=32, shuffle=False)\n",
    "test_loader = DataLoader(test_dataset, batch_size=32, shuffle=False)\n"
   ]
  },
  {
   "cell_type": "markdown",
   "metadata": {},
   "source": [
    "## Init Model"
   ]
  },
  {
   "cell_type": "code",
   "execution_count": 31,
   "metadata": {},
   "outputs": [],
   "source": [
    "device = torch.device('cuda' if torch.cuda.is_available() else 'cpu')\n",
    "model = SimpleCNN(num_classes=num_classes, dropout_rate=dropout_rate).to(device)\n",
    "\n",
    "criterion = nn.CrossEntropyLoss()\n",
    "optimizer = optim.Adam(model.parameters(), lr=learning_rate)"
   ]
  },
  {
   "cell_type": "markdown",
   "metadata": {},
   "source": [
    "## Test"
   ]
  },
  {
   "cell_type": "code",
   "execution_count": null,
   "metadata": {},
   "outputs": [
    {
     "name": "stdout",
     "output_type": "stream",
     "text": [
      "Loading the best model: saved_models_1STAR\\best_model.pth\n",
      "Test Loss: 0.4588, Test Accuracy: 0.7595\n",
      "Classification Report:\n",
      "              precision    recall  f1-score   support\n",
      "\n",
      "           0       0.71      0.90      0.79        40\n",
      "           1       0.86      0.62      0.72        39\n",
      "\n",
      "    accuracy                           0.76        79\n",
      "   macro avg       0.78      0.76      0.75        79\n",
      "weighted avg       0.78      0.76      0.75        79\n",
      "\n",
      "Partial AUC (pAUC) above TPR=0.8 (normalized to [0, 0.2]): 0.0976\n"
     ]
    },
    {
     "name": "stderr",
     "output_type": "stream",
     "text": [
      "C:\\Users\\jonec\\AppData\\Local\\Temp\\ipykernel_68964\\1630096397.py:11: FutureWarning: You are using `torch.load` with `weights_only=False` (the current default value), which uses the default pickle module implicitly. It is possible to construct malicious pickle data which will execute arbitrary code during unpickling (See https://github.com/pytorch/pytorch/blob/main/SECURITY.md#untrusted-models for more details). In a future release, the default value for `weights_only` will be flipped to `True`. This limits the functions that could be executed during unpickling. Arbitrary objects will no longer be allowed to be loaded via this mode unless they are explicitly allowlisted by the user via `torch.serialization.add_safe_globals`. We recommend you start setting `weights_only=True` for any use case where you don't have full control of the loaded file. Please open an issue on GitHub for any issues related to this experimental feature.\n",
      "  model.load_state_dict(torch.load(best_model_path))\n"
     ]
    }
   ],
   "source": [
    "\n",
    "saved_models_dir = \"saved_models_1STAR\"\n",
    "best_model_path = os.path.join(saved_models_dir, \"best_model.pth\")\n",
    "\n",
    "\n",
    "if not os.path.exists(best_model_path):\n",
    "    raise FileNotFoundError(f\"No model file found at {best_model_path}.\")\n",
    "\n",
    "\n",
    "print(f\"Loading the best model: {best_model_path}\")\n",
    "model.load_state_dict(torch.load(best_model_path))\n",
    "model.eval()\n",
    "\n",
    "running_test_loss = 0.0\n",
    "correct_test = 0\n",
    "total_test = 0\n",
    "all_labels = []\n",
    "all_preds = []\n",
    "all_probs = []\n",
    "\n",
    "with torch.no_grad():\n",
    "    for images, labels in test_loader:\n",
    "        images, labels = images.to(device), labels.to(device)\n",
    "        outputs = model(images)\n",
    "        loss = criterion(outputs, labels)\n",
    "        running_test_loss += loss.item()\n",
    "        \n",
    "        probs = torch.softmax(outputs, dim=1)[:, 1]  \n",
    "        preds = torch.argmax(outputs, dim=1)\n",
    "        \n",
    "        all_labels.extend(labels.cpu().numpy())\n",
    "        all_preds.extend(preds.cpu().numpy())\n",
    "        all_probs.extend(probs.cpu().numpy())\n",
    "\n",
    "        correct_test += (preds == labels).sum().item()\n",
    "        total_test += labels.size(0)\n",
    "\n",
    "avg_test_loss = running_test_loss / len(test_loader)\n",
    "test_accuracy = correct_test / total_test\n",
    "print(f\"Test Loss: {avg_test_loss:.4f}, Test Accuracy: {test_accuracy:.4f}\")\n",
    "\n",
    "\n",
    "print(\"Classification Report:\")\n",
    "print(classification_report(all_labels, all_preds, target_names=dataset.classes))\n",
    "\n",
    "\n",
    "pAUC = custom_metric(np.array(all_labels), np.array(all_probs), min_tpr=0.8)\n",
    "print(f\"Partial AUC (pAUC) above TPR=0.8 (normalized to [0, 0.2]): {pAUC:.4f}\")\n"
   ]
  },
  {
   "cell_type": "markdown",
   "metadata": {},
   "source": [
    "## Plotting"
   ]
  },
  {
   "cell_type": "code",
   "execution_count": 35,
   "metadata": {},
   "outputs": [
    {
     "data": {
      "image/png": "[encoded data removed]",
      "text/plain": [
       "<Figure size 800x600 with 1 Axes>"
      ]
     },
     "metadata": {},
     "output_type": "display_data"
    },
    {
     "name": "stdout",
     "output_type": "stream",
     "text": [
      "ROC Curve plot saved to saved_models_1STAR\\roc_curve_with_pauc.png\n"
     ]
    }
   ],
   "source": [
    "# Plot ROC Curve\n",
    "fpr, tpr, _ = roc_curve(all_labels, all_probs)\n",
    "\n",
    "# Plot the main ROC curve\n",
    "plt.figure(figsize=(8, 6))\n",
    "plt.plot(fpr, tpr, label=f\"ROC Curve (AUC = {roc_auc_score(all_labels, all_probs):.4f})\", linewidth=2)\n",
    "\n",
    "# Define TPR threshold\n",
    "tpr_threshold = 0.8\n",
    "\n",
    "# Interpolate FPR at TPR = 0.8\n",
    "fpr_interp = np.interp(tpr_threshold, tpr, fpr)\n",
    "\n",
    "# Find indices where TPR >= 0.8\n",
    "valid_indices = tpr >= tpr_threshold\n",
    "\n",
    "# Create bounded arrays for the shaded region\n",
    "fpr_bounded = np.concatenate(([fpr_interp], fpr[valid_indices]))\n",
    "tpr_bounded = np.concatenate(([tpr_threshold], tpr[valid_indices]))\n",
    "\n",
    "# Highlight the green area bounded by TPR = 0.8 and the curve\n",
    "plt.fill_between(\n",
    "    fpr_bounded,\n",
    "    tpr_bounded,\n",
    "    tpr_threshold,\n",
    "    color=\"green\",\n",
    "    alpha=0.2,\n",
    "    label=f\"pAUC (TPR ≥ {tpr_threshold}) = {pAUC:.4f}\"\n",
    ")\n",
    "\n",
    "# Finalize the plot\n",
    "plt.xlabel('False Positive Rate (FPR)')\n",
    "plt.ylabel('True Positive Rate (TPR)')\n",
    "plt.title('ROC Curve with pAUC Highlighted')\n",
    "plt.legend(loc=\"lower right\")\n",
    "plt.grid(True)\n",
    "\n",
    "# Save the plot\n",
    "roc_plot_path = os.path.join(saved_models_dir, \"roc_curve_with_pauc.png\")\n",
    "plt.savefig(roc_plot_path, bbox_inches=\"tight\")\n",
    "plt.show()\n",
    "\n",
    "print(f\"ROC Curve plot saved to {roc_plot_path}\")\n"
   ]
  }
 ],
 "metadata": {
  "kernelspec": {
   "display_name": "general_ai",
   "language": "python",
   "name": "python3"
  },
  "language_info": {
   "codemirror_mode": {
    "name": "ipython",
    "version": 3
   },
   "file_extension": ".py",
   "mimetype": "text/x-python",
   "name": "python",
   "nbconvert_exporter": "python",
   "pygments_lexer": "ipython3",
   "version": "3.9.19"
  }
 },
 "nbformat": 4,
 "nbformat_minor": 2
}
