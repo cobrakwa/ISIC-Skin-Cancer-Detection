{
 "cells": [
  {
   "cell_type": "markdown",
   "metadata": {},
   "source": [
    "## Imports"
   ]
  },
  {
   "cell_type": "code",
   "execution_count": null,
   "metadata": {},
   "outputs": [
    {
     "name": "stdout",
     "output_type": "stream",
     "text": [
      "Normalized dataset saved to ./data/balanced_data/normalized_metadata.csv\n",
      "Normalization parameters saved to ./data/balanced_data/normalization_params.json\n"
     ]
    },
    {
     "name": "stderr",
     "output_type": "stream",
     "text": [
      "/tmp/ipykernel_205131/3159908410.py:38: FutureWarning: DataFrame.applymap has been deprecated. Use DataFrame.map instead.\n",
      "  metadata = metadata.applymap(lambda x: 1 if x is True else (0 if x is False else x))\n"
     ]
    }
   ],
   "source": [
    "import pandas as pd\n",
    "import json\n",
    "\n",
    "\n",
    "input_csv_path = './data/balanced_data/balanced_train_metadata.csv'\n",
    "output_csv_path = './data/balanced_data/normalized_metadata.csv'\n",
    "normalization_file_path = './data/balanced_data/normalization_params.json'\n",
    "\n",
    "\n",
    "columns_to_drop = [\n",
    "    \"patient_id\", \"lesion_id\", \"iddx_full\", \"iddx_1\", \"iddx_2\", \"iddx_3\", \"iddx_4\", \"iddx_5\",\n",
    "    \"mel_mitotic_index\", \"mel_thick_mm\", \"tbp_lv_dnn_lesion_confidence\", \"attribution\", \"copyright_license\",\n",
    "    \"image_type\", \"anatom_site_general\", \"tbp_tile_type\", \"tbp_lv_location\"\n",
    "]\n",
    "\n",
    "\n",
    "metadata = pd.read_csv(input_csv_path)\n",
    "\n",
    "\n",
    "metadata = metadata.drop(columns=columns_to_drop)\n",
    "\n",
    "\n",
    "metadata.dropna(inplace=True)\n",
    "\n",
    "\n",
    "metadata['sex'] = metadata['sex'].map({'male': 1, 'female': 0})\n",
    "\n",
    "\n",
    "metadata = pd.get_dummies(metadata, columns=['tbp_lv_location_simple'], prefix='', prefix_sep='', dtype=int)\n",
    "\n",
    "\n",
    "metadata.rename(\n",
    "    columns={col: col.lower().replace(' ', '_') for col in metadata.columns if col.startswith(('Torso', 'Left', 'Right', 'Head', 'Unknown'))},\n",
    "    inplace=True\n",
    ")\n",
    "\n",
    "\n",
    "metadata = metadata.applymap(lambda x: 1 if x is True else (0 if x is False else x))\n",
    "\n",
    "\n",
    "binary_columns = ['sex'] + [col for col in metadata.columns if metadata[col].nunique() == 2]\n",
    "feature_columns = [col for col in metadata.columns if col not in ['isic_id'] + binary_columns]\n",
    "\n",
    "\n",
    "normalization_params = {}\n",
    "for col in feature_columns:\n",
    "    col_min = metadata[col].min()\n",
    "    col_max = metadata[col].max()\n",
    "    col_median = metadata[col].median()\n",
    "    normalization_params[col] = {\n",
    "        'min': float(col_min), \n",
    "        'max': float(col_max), \n",
    "        'median': float(col_median)\n",
    "    }\n",
    "    \n",
    "    \n",
    "    metadata[col] = (metadata[col] - col_min) / (col_max - col_min)\n",
    "\n",
    "\n",
    "with open(normalization_file_path, 'w') as f:\n",
    "    json.dump(normalization_params, f)\n",
    "\n",
    "\n",
    "metadata.to_csv(output_csv_path, index=False)\n",
    "\n",
    "print(f\"Normalized dataset saved to {output_csv_path}\")\n",
    "print(f\"Normalization parameters saved to {normalization_file_path}\")\n"
   ]
  },
  {
   "cell_type": "code",
   "execution_count": null,
   "metadata": {},
   "outputs": [],
   "source": []
  }
 ],
 "metadata": {
  "kernelspec": {
   "display_name": "general_ai",
   "language": "python",
   "name": "python3"
  },
  "language_info": {
   "codemirror_mode": {
    "name": "ipython",
    "version": 3
   },
   "file_extension": ".py",
   "mimetype": "text/x-python",
   "name": "python",
   "nbconvert_exporter": "python",
   "pygments_lexer": "ipython3",
   "version": "3.9.19"
  }
 },
 "nbformat": 4,
 "nbformat_minor": 2
}
